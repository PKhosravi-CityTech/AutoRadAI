{
  "nbformat": 4,
  "nbformat_minor": 0,
  "metadata": {
    "colab": {
      "provenance": [],
      "gpuType": "T4"
    },
    "kernelspec": {
      "name": "python3",
      "display_name": "Python 3"
    },
    "accelerator": "GPU"
  },
  "cells": [
    {
      "cell_type": "markdown",
      "source": [
        "<img src=\"https://github.com/PKhosravi-CityTech/LightCnnRad/raw/main/Images/BioMindLogo.png\" alt=\"BioMind AI Lab Logo\" width=\"150\" height=\"150\" align=\"left\" style=\"margin-bottom: 40px;\"> **Repository Developed by Pegah Khosravi, Principal Investigator of the BioMind AI Lab**\n",
        "\n",
        "Welcome to this repository! This repository is a result of collaborative efforts from our dedicated team at the lab. We are committed to advancing the field of biomedical AI and pushing the boundaries of medical data analysis. Your interest and contributions to our work are greatly appreciated. For more information about our lab and ongoing projects, please visit the [BioMind AI Lab website](https://sites.google.com/view/biomind-ai-lab). Thank you for your interest and support!\n"
      ],
      "metadata": {
        "id": "BhbC5dV4fP7n"
      }
    },
    {
      "cell_type": "markdown",
      "source": [
        "# Upload images\n",
        "\n",
        "We are working with MR images provided at Global Robotics Institute."
      ],
      "metadata": {
        "id": "YlYwSU9mq5Uc"
      }
    },
    {
      "cell_type": "markdown",
      "source": [
        "Let's upload the images to Google Drive to ensure they are not lost every time we run the code in Colab."
      ],
      "metadata": {
        "id": "nFgyqRkvZ86b"
      }
    },
    {
      "cell_type": "code",
      "source": [
        "from google.colab import drive\n",
        "drive.mount('/content/gdrive')"
      ],
      "metadata": {
        "id": "sLIB2Tj8GJrf",
        "colab": {
          "base_uri": "https://localhost:8080/"
        },
        "outputId": "621c3b15-aab4-4028-d5ab-4d69a180dd77"
      },
      "execution_count": null,
      "outputs": [
        {
          "output_type": "stream",
          "name": "stdout",
          "text": [
            "Mounted at /content/gdrive\n"
          ]
        }
      ]
    },
    {
      "cell_type": "markdown",
      "source": [
        "Let's extract the contents of the compressed zip file."
      ],
      "metadata": {
        "id": "-HHAoVFaa2hn"
      }
    },
    {
      "cell_type": "code",
      "source": [
        "import zipfile\n",
        "!unzip \"/content/gdrive/MyDrive/ColabNotebooks_PegahKhosravi/Prostate_Project/InHouse_Data.zip\" -d data"
      ],
      "metadata": {
        "id": "QQnMkeTxQJL2"
      },
      "execution_count": null,
      "outputs": []
    },
    {
      "cell_type": "markdown",
      "source": [
        "Please remove the \"__MACOSX\" file; it is unnecessary for our purposes."
      ],
      "metadata": {
        "id": "tvJLso1ha-zs"
      }
    },
    {
      "cell_type": "code",
      "source": [
        "!rm -rf '/content/data/__MACOSX'"
      ],
      "metadata": {
        "id": "ZgUKFwZCXES4"
      },
      "execution_count": null,
      "outputs": []
    },
    {
      "cell_type": "markdown",
      "source": [
        "Import all the necessary libraries."
      ],
      "metadata": {
        "id": "XdxAKGXDbGru"
      }
    },
    {
      "cell_type": "code",
      "source": [
        "#Load libraries\n",
        "import os\n",
        "import numpy as np\n",
        "import torch\n",
        "import glob\n",
        "import torch.nn as nn\n",
        "from torchvision.transforms import transforms\n",
        "from torch.utils.data import DataLoader\n",
        "from torch.optim import Adam\n",
        "from torch.autograd import Variable\n",
        "import torchvision\n",
        "import pathlib"
      ],
      "metadata": {
        "id": "XMkOOZD0PYAu"
      },
      "execution_count": null,
      "outputs": []
    },
    {
      "cell_type": "code",
      "source": [
        "#checking for device\n",
        "device=torch.device('cuda' if torch.cuda.is_available() else 'cpu')"
      ],
      "metadata": {
        "id": "RCokUvYEPg9m"
      },
      "execution_count": null,
      "outputs": []
    },
    {
      "cell_type": "code",
      "source": [
        "print(device)"
      ],
      "metadata": {
        "id": "rNCi6CfaPj6t",
        "colab": {
          "base_uri": "https://localhost:8080/"
        },
        "outputId": "41cb20bc-735b-4894-c968-67c33efa9a4d"
      },
      "execution_count": null,
      "outputs": [
        {
          "output_type": "stream",
          "name": "stdout",
          "text": [
            "cuda\n"
          ]
        }
      ]
    },
    {
      "cell_type": "markdown",
      "source": [
        "Transforms are applied to the input images to prepare them for the deep learning model. These transformations include resizing the images to 512x512 pixels, randomly flipping them horizontally for data augmentation, converting them to tensors, and normalizing the pixel values to have a mean of 0.5 and a standard deviation of 0.5, resulting in a standardized input format suitable for the neural network."
      ],
      "metadata": {
        "id": "5uN0YdLB1q-g"
      }
    },
    {
      "cell_type": "code",
      "source": [
        "from torchvision import transforms\n",
        "\n",
        "# Updated Transforms\n",
        "transformer = transforms.Compose([\n",
        "    transforms.Resize((512, 512)),  # Changed from (256,256) to (512, 512)\n",
        "    transforms.RandomHorizontalFlip(),\n",
        "    transforms.ToTensor(),  # Converts image to tensor and scales pixels between 0 and 1\n",
        "    transforms.Normalize([0.5, 0.5, 0.5],  # Normalizes pixel values to [-1, 1]\n",
        "                         [0.5, 0.5, 0.5])\n",
        "])\n"
      ],
      "metadata": {
        "id": "XsVBXgfs_Ry2"
      },
      "execution_count": null,
      "outputs": []
    },
    {
      "cell_type": "markdown",
      "source": [
        "This section sets up data loaders for training, validation, and testing. It loads images from specific directories, applies transformations, and creates batches for efficient processing during model training and evaluation."
      ],
      "metadata": {
        "id": "2n5xJ5VA12En"
      }
    },
    {
      "cell_type": "code",
      "source": [
        "#Dataloader\n",
        "\n",
        "#Path for Training, Validation, and Test directory\n",
        "train_path=\"/content/data/InHouse_Data/Training\"\n",
        "validation_path=\"/content/data/InHouse_Data/Validation\"\n",
        "pred_path=\"/content/data/InHouse_Data/Test\"\n",
        "\n",
        "train_loader=DataLoader(\n",
        "    torchvision.datasets.ImageFolder(train_path,transform=transformer),\n",
        "    batch_size=64, shuffle=True\n",
        ")\n",
        "validation_loader=DataLoader(\n",
        "    torchvision.datasets.ImageFolder(validation_path,transform=transformer),\n",
        "    batch_size=32, shuffle=True\n",
        ")"
      ],
      "metadata": {
        "id": "yMvgAJZQPo2Y"
      },
      "execution_count": null,
      "outputs": []
    },
    {
      "cell_type": "code",
      "source": [
        "#categories\n",
        "root=pathlib.Path(train_path)\n",
        "classes=sorted([j.name.split('/')[-1] for j in root.iterdir()])"
      ],
      "metadata": {
        "id": "Z6-mtBaPSh1P"
      },
      "execution_count": null,
      "outputs": []
    },
    {
      "cell_type": "markdown",
      "source": [
        "Remove the \".DS_Store\" file from the training, validation, and test sets, as it is not needed. Please execute this section twice for each set, and before each run, ensure to execute the code above to ensure a clear path from the root."
      ],
      "metadata": {
        "id": "dt0P3bAkbRNN"
      }
    },
    {
      "cell_type": "code",
      "source": [
        "!rm \"/content/data/InHouse_Data/Training/.DS_Store\"\n",
        "!rm \"/content/data/InHouse_Data/Validation/.DS_Store\"\n",
        "!rm \"/content/data/InHouse_Data/Test/.DS_Store\""
      ],
      "metadata": {
        "id": "gpQn_FMGky2q",
        "colab": {
          "base_uri": "https://localhost:8080/"
        },
        "outputId": "05d71670-a625-4b22-e648-b142026de30d"
      },
      "execution_count": null,
      "outputs": [
        {
          "output_type": "stream",
          "name": "stdout",
          "text": [
            "rm: cannot remove '/content/data/InHouse_Data/Training/.DS_Store': No such file or directory\n",
            "rm: cannot remove '/content/data/InHouse_Data/Validation/.DS_Store': No such file or directory\n",
            "rm: cannot remove '/content/data/InHouse_Data/Test/.DS_Store': No such file or directory\n"
          ]
        }
      ]
    },
    {
      "cell_type": "markdown",
      "source": [
        "Here, we define the categories or classes within our dataset. It scans the training data directory, extracts the category names from the directory structure, and sorts them alphabetically for reference in our image classification task."
      ],
      "metadata": {
        "id": "8GBUYsrF2Eau"
      }
    },
    {
      "cell_type": "code",
      "source": [
        "print(classes)"
      ],
      "metadata": {
        "id": "j1ba_us9Kg-0",
        "colab": {
          "base_uri": "https://localhost:8080/"
        },
        "outputId": "12010221-67d6-440e-8a94-ca6de7aa7d71"
      },
      "execution_count": null,
      "outputs": [
        {
          "output_type": "stream",
          "name": "stdout",
          "text": [
            "['N_ECE', 'Y_ECE']\n"
          ]
        }
      ]
    },
    {
      "cell_type": "markdown",
      "source": [
        "In this section, we outline the architecture of the ExCapNet model."
      ],
      "metadata": {
        "id": "zN5ir6--2-xU"
      }
    },
    {
      "cell_type": "code",
      "source": [
        "import torch\n",
        "import torch.nn as nn\n",
        "\n",
        "class ExCapNet(nn.Module):\n",
        "    def __init__(self, num_classes=2):\n",
        "        super(ExCapNet, self).__init__()\n",
        "\n",
        "        # Depthwise Separable Convolution Block 1\n",
        "        self.conv1_dw = nn.Conv2d(in_channels=3, out_channels=3, kernel_size=3, stride=1, padding=1, groups=3)\n",
        "        self.conv1_pw = nn.Conv2d(in_channels=3, out_channels=12, kernel_size=1, stride=1, padding=0)\n",
        "        self.bn1 = nn.BatchNorm2d(num_features=12)\n",
        "        self.relu1 = nn.ReLU()\n",
        "        self.pool = nn.MaxPool2d(kernel_size=2, stride=2)\n",
        "\n",
        "        # Depthwise Separable Convolution Block 2\n",
        "        self.conv2_dw = nn.Conv2d(in_channels=12, out_channels=12, kernel_size=3, stride=1, padding=1, groups=12)\n",
        "        self.conv2_pw = nn.Conv2d(in_channels=12, out_channels=24, kernel_size=1)\n",
        "        self.bn2 = nn.BatchNorm2d(num_features=24)\n",
        "        self.relu2 = nn.ReLU()\n",
        "        self.pool = nn.MaxPool2d(kernel_size=2, stride=2)\n",
        "\n",
        "        # Depthwise Separable Convolution Block 3\n",
        "        self.conv3_dw = nn.Conv2d(in_channels=24, out_channels=24, kernel_size=3, stride=1, padding=1, groups=24)\n",
        "        self.conv3_pw = nn.Conv2d(in_channels=24, out_channels=36, kernel_size=1)\n",
        "        self.bn3 = nn.BatchNorm2d(num_features=36)\n",
        "        self.relu3 = nn.ReLU()\n",
        "        self.pool = nn.MaxPool2d(kernel_size=2, stride=2)\n",
        "\n",
        "        # Calculate the size of the output from the last pooling layer\n",
        "        final_dim = 512 // (2 ** 3)  # 512 / 8 = 64 (adjusting for fewer blocks)\n",
        "        final_output_size = 36 * 64 * 64  # 36 channels * 64x64\n",
        "\n",
        "        # Fully connected layers\n",
        "        self.fc1 = nn.Linear(in_features=final_output_size, out_features=128)\n",
        "        self.relu5 = nn.ReLU()\n",
        "        self.dropout = nn.Dropout(p=0.6)\n",
        "        self.fc2 = nn.Linear(in_features=128, out_features=num_classes)\n",
        "\n",
        "    def forward(self, input):\n",
        "        output = self.conv1_dw(input)\n",
        "        output = self.conv1_pw(output)\n",
        "        output = self.bn1(output)\n",
        "        output = self.relu1(output)\n",
        "        output = self.pool(output)\n",
        "\n",
        "        output = self.conv2_dw(output)\n",
        "        output = self.conv2_pw(output)\n",
        "        output = self.bn2(output)\n",
        "        output = self.relu2(output)\n",
        "        output = self.pool(output)\n",
        "\n",
        "        output = self.conv3_dw(output)\n",
        "        output = self.conv3_pw(output)\n",
        "        output = self.bn3(output)\n",
        "        output = self.relu3(output)\n",
        "        output = self.pool(output)\n",
        "\n",
        "        output = output.view(-1, 36 * 64 * 64)  # Adjusted to the new size of the flattened layer\n",
        "\n",
        "        output = self.fc1(output)\n",
        "        output = self.relu5(output)\n",
        "        output = self.dropout(output)\n",
        "        output = self.fc2(output)\n",
        "\n",
        "        return output\n",
        "\n",
        "# Instantiate the model\n",
        "device = torch.device('cuda' if torch.cuda.is_available() else 'cpu')\n",
        "model = ExCapNet(num_classes=2).to(device)\n"
      ],
      "metadata": {
        "id": "YdDtdMQRqyPS"
      },
      "execution_count": null,
      "outputs": []
    },
    {
      "cell_type": "code",
      "source": [
        "from torchsummary import summary\n",
        "\n",
        "model=model.cuda()\n",
        "\n",
        "summary(model, (3,512,512))"
      ],
      "metadata": {
        "colab": {
          "base_uri": "https://localhost:8080/"
        },
        "id": "LfZDMc3mqzIH",
        "outputId": "06b48eb6-d072-48b7-d32e-9c7cbf443268"
      },
      "execution_count": null,
      "outputs": [
        {
          "output_type": "stream",
          "name": "stdout",
          "text": [
            "----------------------------------------------------------------\n",
            "        Layer (type)               Output Shape         Param #\n",
            "================================================================\n",
            "            Conv2d-1          [-1, 3, 512, 512]              30\n",
            "            Conv2d-2         [-1, 12, 512, 512]              48\n",
            "       BatchNorm2d-3         [-1, 12, 512, 512]              24\n",
            "              ReLU-4         [-1, 12, 512, 512]               0\n",
            "         MaxPool2d-5         [-1, 12, 256, 256]               0\n",
            "            Conv2d-6         [-1, 12, 256, 256]             120\n",
            "            Conv2d-7         [-1, 24, 256, 256]             312\n",
            "       BatchNorm2d-8         [-1, 24, 256, 256]              48\n",
            "              ReLU-9         [-1, 24, 256, 256]               0\n",
            "        MaxPool2d-10         [-1, 24, 128, 128]               0\n",
            "           Conv2d-11         [-1, 24, 128, 128]             240\n",
            "           Conv2d-12         [-1, 36, 128, 128]             900\n",
            "      BatchNorm2d-13         [-1, 36, 128, 128]              72\n",
            "             ReLU-14         [-1, 36, 128, 128]               0\n",
            "        MaxPool2d-15           [-1, 36, 64, 64]               0\n",
            "           Linear-16                  [-1, 128]      18,874,496\n",
            "             ReLU-17                  [-1, 128]               0\n",
            "          Dropout-18                  [-1, 128]               0\n",
            "           Linear-19                    [-1, 2]             258\n",
            "================================================================\n",
            "Total params: 18,876,548\n",
            "Trainable params: 18,876,548\n",
            "Non-trainable params: 0\n",
            "----------------------------------------------------------------\n",
            "Input size (MB): 3.00\n",
            "Forward/backward pass size (MB): 146.63\n",
            "Params size (MB): 72.01\n",
            "Estimated Total Size (MB): 221.64\n",
            "----------------------------------------------------------------\n"
          ]
        }
      ]
    },
    {
      "cell_type": "markdown",
      "source": [
        "Now, let's define the optimizer and Loss function."
      ],
      "metadata": {
        "id": "DjeRt9LScKOW"
      }
    },
    {
      "cell_type": "code",
      "source": [
        "#https://analyticsindiamag.com/ultimate-guide-to-pytorch-optimizers/\n",
        "from torch.optim.adamw import AdamW\n",
        "from torch.optim.adamax import Adamax\n",
        "from torch.optim.sparse_adam import SparseAdam\n",
        "from torch.optim.sgd import SGD\n",
        "from torch.optim.adagrad import Adagrad\n",
        "from torch.optim.rmsprop import RMSprop\n"
      ],
      "metadata": {
        "id": "VG0Xr5vyL8Fh"
      },
      "execution_count": null,
      "outputs": []
    },
    {
      "cell_type": "code",
      "source": [
        "optimizer = RMSprop(\n",
        "    model.parameters(),\n",
        "    lr=0.00001,      # Slightly higher starting learning rate\n",
        "    alpha=0.9,       # Adjusted alpha\n",
        "    eps=1e-08,\n",
        "    weight_decay=0.0001,\n",
        "    momentum=0.5,    # Added momentum\n",
        "    centered=False\n",
        ")\n"
      ],
      "metadata": {
        "id": "fJ44IPTZA8aX"
      },
      "execution_count": null,
      "outputs": []
    },
    {
      "cell_type": "code",
      "source": [
        "loss_function=nn.CrossEntropyLoss()"
      ],
      "metadata": {
        "id": "q8mc-Y2R3XFQ"
      },
      "execution_count": null,
      "outputs": []
    },
    {
      "cell_type": "markdown",
      "source": [
        "Next, let's set the desired number of epochs for training the model."
      ],
      "metadata": {
        "id": "4CvpeT9fbxcB"
      }
    },
    {
      "cell_type": "code",
      "source": [
        "num_epochs=50"
      ],
      "metadata": {
        "id": "4VqtmczrTe9f"
      },
      "execution_count": null,
      "outputs": []
    },
    {
      "cell_type": "code",
      "source": [
        "#calculating the size of training and testing images\n",
        "train_count=len(glob.glob(train_path+'/**/*.png'))\n",
        "validation_count=len(glob.glob(validation_path+'/**/*.png'))"
      ],
      "metadata": {
        "id": "iFZCkhPTThGr"
      },
      "execution_count": null,
      "outputs": []
    },
    {
      "cell_type": "markdown",
      "source": [
        "Now, let's take a look at the number of images present in both the training and validation folders."
      ],
      "metadata": {
        "id": "Jk-uHTmBGuXL"
      }
    },
    {
      "cell_type": "code",
      "source": [
        "print(train_count,validation_count)"
      ],
      "metadata": {
        "id": "cvot-HH2T9Mc",
        "colab": {
          "base_uri": "https://localhost:8080/"
        },
        "outputId": "1834ef52-80e7-4078-95d9-5f837ea10381"
      },
      "execution_count": null,
      "outputs": [
        {
          "output_type": "stream",
          "name": "stdout",
          "text": [
            "4200 1340\n"
          ]
        }
      ]
    },
    {
      "cell_type": "markdown",
      "source": [
        "Now, we proceed with training the model for the specified number of epochs using the images from the training and validation folders. During each epoch, we assess the model's performance, ultimately saving the best-performing model."
      ],
      "metadata": {
        "id": "-SG5I_Iu3c9c"
      }
    },
    {
      "cell_type": "code",
      "source": [
        "import torch\n",
        "import numpy as np\n",
        "import random\n",
        "\n",
        "# Set seed for reproducibility\n",
        "seed = 42\n",
        "torch.manual_seed(seed)\n",
        "np.random.seed(seed)\n",
        "random.seed(seed)\n",
        "\n",
        "# Optional: Ensures that every run on the same machine yields the same result\n",
        "torch.backends.cudnn.deterministic = False\n",
        "torch.backends.cudnn.benchmark = False\n",
        "\n",
        "# Continue with the rest of your imports and code\n",
        "import matplotlib.pyplot as plt\n",
        "from torch.autograd import Variable\n",
        "\n"
      ],
      "metadata": {
        "id": "IslcM7EFaw52"
      },
      "execution_count": null,
      "outputs": []
    },
    {
      "cell_type": "code",
      "source": [
        "import matplotlib.pyplot as plt\n",
        "from torch.autograd import Variable\n",
        "import torch\n",
        "\n",
        "# Initialize lists to store accuracy and loss values\n",
        "train_accuracies = []\n",
        "validation_accuracies = []\n",
        "train_losses = []\n",
        "validation_losses = []\n",
        "\n",
        "# Model training and saving best model\n",
        "best_accuracy = 0.0\n",
        "patience = 6  # Set the patience for early stopping\n",
        "patience_counter = 0  # Counter to track the number of epochs without improvement\n",
        "\n",
        "for epoch in range(num_epochs):\n",
        "    # Evaluation and training on the training dataset\n",
        "    model.train()\n",
        "    train_accuracy = 0.0\n",
        "    train_loss = 0.0\n",
        "\n",
        "    for i, (images, labels) in enumerate(train_loader):\n",
        "        if torch.cuda.is_available():\n",
        "            images = images.cuda()\n",
        "            labels = labels.cuda()\n",
        "\n",
        "        optimizer.zero_grad()\n",
        "\n",
        "        outputs = model(images)\n",
        "        loss = loss_function(outputs, labels)\n",
        "        loss.backward()\n",
        "        optimizer.step()\n",
        "\n",
        "        train_loss += loss.item() * images.size(0)  # Adjusted to use the actual batch size\n",
        "        _, prediction = torch.max(outputs, 1)\n",
        "        train_accuracy += torch.sum(prediction == labels).item()\n",
        "\n",
        "    train_accuracy /= len(train_loader.dataset)\n",
        "    train_loss /= len(train_loader.dataset)\n",
        "\n",
        "    # Evaluation mode for the validation process\n",
        "    model.eval()\n",
        "    validation_accuracy = 0.0\n",
        "    validation_loss = 0.0\n",
        "\n",
        "    for i, (images, labels) in enumerate(validation_loader):\n",
        "        if torch.cuda.is_available():\n",
        "            images = images.cuda()\n",
        "            labels = labels.cuda()\n",
        "\n",
        "        with torch.no_grad():\n",
        "            outputs = model(images)\n",
        "            loss = loss_function(outputs, labels)\n",
        "            validation_loss += loss.item() * images.size(0)\n",
        "            _, prediction = torch.max(outputs, 1)\n",
        "            validation_accuracy += torch.sum(prediction == labels).item()\n",
        "\n",
        "    validation_accuracy /= len(validation_loader.dataset)\n",
        "    validation_loss /= len(validation_loader.dataset)\n",
        "\n",
        "    # Logging the metrics\n",
        "    print(f'Epoch: {epoch} Train Loss: {train_loss:.4f} Validation Loss: {validation_loss:.4f} Train Accuracy: {train_accuracy:.4f} Validation Accuracy: {validation_accuracy:.4f}')\n",
        "\n",
        "    # Append accuracy and loss values to the lists\n",
        "    train_accuracies.append(train_accuracy)\n",
        "    validation_accuracies.append(validation_accuracy)\n",
        "    train_losses.append(train_loss)\n",
        "    validation_losses.append(validation_loss)\n",
        "\n",
        "    # Check if the current model is the best one\n",
        "    if validation_accuracy > best_accuracy:\n",
        "        torch.save(model.state_dict(), 'best_checkpoint.model')\n",
        "        best_accuracy = validation_accuracy\n",
        "        patience_counter = 0  # Reset the patience counter if there's an improvement\n",
        "    else:\n",
        "        patience_counter += 1  # Increment the counter if no improvement\n",
        "\n",
        "    # Early stopping check\n",
        "    if patience_counter > patience:\n",
        "        print(\"Early stopping triggered\")\n",
        "        break  # Break the loop if early stopping criteria met\n",
        "\n",
        "# Plotting or further analysis could go here\n"
      ],
      "metadata": {
        "id": "pjGwYuEdNESG"
      },
      "execution_count": null,
      "outputs": []
    },
    {
      "cell_type": "markdown",
      "source": [
        "In this code section, we create visualizations to track the training and validation accuracy, as well as the training and validation loss. The left subplot displays accuracy trends, while the right subplot shows loss trends. These visualizations offer insights into how the model performs and converges during training."
      ],
      "metadata": {
        "id": "cc55Xna04B1C"
      }
    },
    {
      "cell_type": "code",
      "source": [
        "# Plotting the accuracy trends\n",
        "plt.figure(figsize=(10, 5))\n",
        "plt.subplot(1, 2, 1)\n",
        "plt.plot(train_accuracies, label='Training Accuracy')\n",
        "plt.plot(validation_accuracies, label='Validation Accuracy')\n",
        "plt.xlabel('Epochs')\n",
        "plt.ylabel('Accuracy')\n",
        "plt.title('Accuracy Trends')\n",
        "plt.legend()\n",
        "plt.ylim(0, 1)  # Set y-axis limits from 0 to 1\n",
        "\n",
        "# Plotting the loss trends\n",
        "plt.subplot(1, 2, 2)\n",
        "plt.plot(train_losses, label='Training Loss')\n",
        "plt.plot(validation_losses, label='Validation Loss')\n",
        "plt.xlabel('Epochs')\n",
        "plt.ylabel('Loss')\n",
        "plt.title('Loss Trends')\n",
        "plt.legend()\n",
        "plt.ylim(0, max(max(train_losses), max(validation_losses)))  # Set y-axis limits from 0 to max value in data\n",
        "\n",
        "# Display the plots\n",
        "plt.tight_layout()\n",
        "plt.show()"
      ],
      "metadata": {
        "id": "iBGHIWevH4IS"
      },
      "execution_count": null,
      "outputs": []
    },
    {
      "cell_type": "markdown",
      "source": [
        "Now, let's test the best model on a blind test set. You can proceed with the following code for prediction."
      ],
      "metadata": {
        "id": "RA-Zkb0scBlx"
      }
    },
    {
      "cell_type": "code",
      "source": [
        "import torch\n",
        "import torch.nn as nn\n",
        "from torchvision.transforms import transforms\n",
        "import numpy as np\n",
        "from torch.autograd import Variable\n",
        "from torchvision.models import squeezenet1_1\n",
        "import torch.functional as F\n",
        "from io import open\n",
        "import os\n",
        "from PIL import Image\n",
        "import pathlib\n",
        "import glob\n",
        "import cv2"
      ],
      "metadata": {
        "id": "0m680Ylp38c1"
      },
      "execution_count": null,
      "outputs": []
    },
    {
      "cell_type": "code",
      "source": [
        "train_path=\"/content/data/InHouse_Data/Training\"\n",
        "pred_path=\"/content/data/InHouse_Data/Test\""
      ],
      "metadata": {
        "id": "gbIAr4-z4CUM"
      },
      "execution_count": null,
      "outputs": []
    },
    {
      "cell_type": "code",
      "source": [
        "test_count=len(glob.glob(pred_path+'/*.png'))"
      ],
      "metadata": {
        "id": "2ydXcDct4DPj"
      },
      "execution_count": null,
      "outputs": []
    },
    {
      "cell_type": "code",
      "source": [
        "print(test_count)"
      ],
      "metadata": {
        "colab": {
          "base_uri": "https://localhost:8080/"
        },
        "id": "lOnfdmDP4DM8",
        "outputId": "6d6777e9-4745-45e7-9878-27a195fafc8b"
      },
      "execution_count": null,
      "outputs": [
        {
          "output_type": "stream",
          "name": "stdout",
          "text": [
            "622\n"
          ]
        }
      ]
    },
    {
      "cell_type": "code",
      "source": [
        "#categories\n",
        "root=pathlib.Path(train_path)\n",
        "classes=sorted([j.name.split('/')[-1] for j in root.iterdir()])"
      ],
      "metadata": {
        "id": "GJkSZXHB4DKE"
      },
      "execution_count": null,
      "outputs": []
    },
    {
      "cell_type": "code",
      "source": [
        "checkpoint=torch.load(\"best_checkpoint.model\")\n",
        "model=ExCapNet(num_classes=2)\n",
        "model.load_state_dict(checkpoint)\n",
        "model.eval()"
      ],
      "metadata": {
        "id": "b8_kT0GG4C_2",
        "colab": {
          "base_uri": "https://localhost:8080/"
        },
        "outputId": "5e52af6d-156a-43eb-e7e7-8b9de397c2b9"
      },
      "execution_count": null,
      "outputs": [
        {
          "output_type": "execute_result",
          "data": {
            "text/plain": [
              "ExCapNet(\n",
              "  (conv1_dw): Conv2d(3, 3, kernel_size=(3, 3), stride=(1, 1), padding=(1, 1), groups=3)\n",
              "  (conv1_pw): Conv2d(3, 12, kernel_size=(1, 1), stride=(1, 1))\n",
              "  (bn1): BatchNorm2d(12, eps=1e-05, momentum=0.1, affine=True, track_running_stats=True)\n",
              "  (relu1): ReLU()\n",
              "  (pool): MaxPool2d(kernel_size=2, stride=2, padding=0, dilation=1, ceil_mode=False)\n",
              "  (conv2_dw): Conv2d(12, 12, kernel_size=(3, 3), stride=(1, 1), padding=(1, 1), groups=12)\n",
              "  (conv2_pw): Conv2d(12, 24, kernel_size=(1, 1), stride=(1, 1))\n",
              "  (bn2): BatchNorm2d(24, eps=1e-05, momentum=0.1, affine=True, track_running_stats=True)\n",
              "  (relu2): ReLU()\n",
              "  (conv3_dw): Conv2d(24, 24, kernel_size=(3, 3), stride=(1, 1), padding=(1, 1), groups=24)\n",
              "  (conv3_pw): Conv2d(24, 36, kernel_size=(1, 1), stride=(1, 1))\n",
              "  (bn3): BatchNorm2d(36, eps=1e-05, momentum=0.1, affine=True, track_running_stats=True)\n",
              "  (relu3): ReLU()\n",
              "  (fc1): Linear(in_features=147456, out_features=128, bias=True)\n",
              "  (relu5): ReLU()\n",
              "  (dropout): Dropout(p=0.6, inplace=False)\n",
              "  (fc2): Linear(in_features=128, out_features=2, bias=True)\n",
              ")"
            ]
          },
          "metadata": {},
          "execution_count": 30
        }
      ]
    },
    {
      "cell_type": "markdown",
      "source": [
        "This illustrates the architecture of your model and the number of parameters that need to be calculated during the training process."
      ],
      "metadata": {
        "id": "7BXNC5Q8Heno"
      }
    },
    {
      "cell_type": "code",
      "source": [
        "from torchsummary import summary\n",
        "\n",
        "model=model.cuda()\n",
        "\n",
        "summary(model, (3,512,512))"
      ],
      "metadata": {
        "id": "FLWe6A-_MNqp",
        "colab": {
          "base_uri": "https://localhost:8080/"
        },
        "outputId": "364ec194-6ad2-40e3-ce6d-b17f5178166a"
      },
      "execution_count": null,
      "outputs": [
        {
          "output_type": "stream",
          "name": "stdout",
          "text": [
            "----------------------------------------------------------------\n",
            "        Layer (type)               Output Shape         Param #\n",
            "================================================================\n",
            "            Conv2d-1          [-1, 3, 512, 512]              30\n",
            "            Conv2d-2         [-1, 12, 512, 512]              48\n",
            "       BatchNorm2d-3         [-1, 12, 512, 512]              24\n",
            "              ReLU-4         [-1, 12, 512, 512]               0\n",
            "         MaxPool2d-5         [-1, 12, 256, 256]               0\n",
            "            Conv2d-6         [-1, 12, 256, 256]             120\n",
            "            Conv2d-7         [-1, 24, 256, 256]             312\n",
            "       BatchNorm2d-8         [-1, 24, 256, 256]              48\n",
            "              ReLU-9         [-1, 24, 256, 256]               0\n",
            "        MaxPool2d-10         [-1, 24, 128, 128]               0\n",
            "           Conv2d-11         [-1, 24, 128, 128]             240\n",
            "           Conv2d-12         [-1, 36, 128, 128]             900\n",
            "      BatchNorm2d-13         [-1, 36, 128, 128]              72\n",
            "             ReLU-14         [-1, 36, 128, 128]               0\n",
            "        MaxPool2d-15           [-1, 36, 64, 64]               0\n",
            "           Linear-16                  [-1, 128]      18,874,496\n",
            "             ReLU-17                  [-1, 128]               0\n",
            "          Dropout-18                  [-1, 128]               0\n",
            "           Linear-19                    [-1, 2]             258\n",
            "================================================================\n",
            "Total params: 18,876,548\n",
            "Trainable params: 18,876,548\n",
            "Non-trainable params: 0\n",
            "----------------------------------------------------------------\n",
            "Input size (MB): 3.00\n",
            "Forward/backward pass size (MB): 146.63\n",
            "Params size (MB): 72.01\n",
            "Estimated Total Size (MB): 221.64\n",
            "----------------------------------------------------------------\n"
          ]
        }
      ]
    },
    {
      "cell_type": "code",
      "source": [
        "from torchvision import transforms\n",
        "\n",
        "# Updated Transforms\n",
        "transformer = transforms.Compose([\n",
        "    transforms.Resize((512, 512)),  # Changed from (256,256) to (512, 512)\n",
        "    transforms.ToTensor(),  # Converts image to tensor and scales pixels between 0 and 1\n",
        "    transforms.Normalize([0.5, 0.5, 0.5],  # Normalizes pixel values to [-1, 1]\n",
        "                         [0.5, 0.5, 0.5])\n",
        "])\n"
      ],
      "metadata": {
        "id": "WMoaMwet4w6D"
      },
      "execution_count": null,
      "outputs": []
    },
    {
      "cell_type": "markdown",
      "source": [
        "This code defines a prediction function to assess new MRI images using the trained ExCapNet model. It processes each image, generates predictions, and stores them in a dictionary. Finally, the probabilities are printed in the desired format for further analysis."
      ],
      "metadata": {
        "id": "XYGPWMH14Ll7"
      }
    },
    {
      "cell_type": "code",
      "source": [
        "# Prediction function\n",
        "def prediction(img_path, transformer, model):\n",
        "    image = Image.open(img_path)\n",
        "    image_tensor = transformer(image).float()\n",
        "    image_tensor = image_tensor.unsqueeze_(0)\n",
        "\n",
        "    if torch.cuda.is_available():\n",
        "        image_tensor = image_tensor.cuda()\n",
        "\n",
        "    with torch.no_grad():  # No need to compute gradients during inference\n",
        "        input = Variable(image_tensor)\n",
        "        output = model(input)\n",
        "\n",
        "    prob = nn.functional.softmax(output, dim=1)\n",
        "    prob = prob.cpu().detach().numpy()  # Move the tensor to CPU and then convert to numpy\n",
        "    return prob\n",
        "\n",
        "# Load the model and move it to the same device as the data\n",
        "model = ExCapNet(num_classes=2)\n",
        "model.load_state_dict(checkpoint)\n",
        "if torch.cuda.is_available():\n",
        "    model.cuda()\n",
        "\n",
        "images_path = glob.glob(pred_path + '/*.png')\n",
        "pred_dict = {}\n",
        "\n",
        "for i in images_path:\n",
        "    filename = i[i.rfind('/') + 1:]\n",
        "    prob_array = prediction(i, transformer, model)\n",
        "    pred_dict[filename] = prob_array\n",
        "\n",
        "# Print the probabilities in the desired format\n",
        "for filename, prob_array in pred_dict.items():\n",
        "    print(f\"'{filename}': np.array({np.array2string(prob_array, separator=', ', formatter={'float_kind': lambda x: f'{x:.8e}'} )}, dtype=np.float32),\")"
      ],
      "metadata": {
        "id": "T7VcT5zg4C9-"
      },
      "execution_count": null,
      "outputs": []
    },
    {
      "cell_type": "markdown",
      "source": [
        "This code segment performs predictions on MRI images using the ExCapNet model and saves the results to a CSV file. It iterates through the prediction dictionary and determines the predicted class and probability for each image, considering a threshold of 0.5. The results are then stored in 'predictions.csv' for further analysis."
      ],
      "metadata": {
        "id": "35_r3T5z4VIM"
      }
    },
    {
      "cell_type": "code",
      "source": [
        "import csv\n",
        "import numpy as np\n",
        "import torch\n",
        "import torch.nn as nn\n",
        "from torchvision.transforms import transforms\n",
        "from torch.autograd import Variable\n",
        "from torchvision.models import squeezenet1_1\n",
        "from io import open\n",
        "import os\n",
        "from PIL import Image\n",
        "import pathlib\n",
        "import glob\n",
        "import cv2\n",
        "\n",
        "# Define the path for saving the CSV file\n",
        "output_csv_path = '/content/predictions.csv'\n",
        "\n",
        "# Save prediction results to CSV\n",
        "with open(output_csv_path, 'w', newline='') as csvfile:\n",
        "    csvwriter = csv.writer(csvfile)\n",
        "    csvwriter.writerow(['Label', 'Predicted Class', 'Probability'])\n",
        "\n",
        "    for filename, prob_array in pred_dict.items():\n",
        "        predicted_class = 'Y' if prob_array[0][1] > 0.5 else 'N'  # Adjust the threshold as needed\n",
        "        probability = prob_array[0][1]\n",
        "        csvwriter.writerow([filename, predicted_class, probability])\n",
        "\n",
        "print(\"Prediction results saved to\", output_csv_path)\n"
      ],
      "metadata": {
        "colab": {
          "base_uri": "https://localhost:8080/"
        },
        "id": "r7-P_FVIxfvC",
        "outputId": "114f6647-1ae3-41d7-8699-cabbd06dd62c"
      },
      "execution_count": null,
      "outputs": [
        {
          "output_type": "stream",
          "name": "stdout",
          "text": [
            "Prediction results saved to /content/predictions.csv\n"
          ]
        }
      ]
    },
    {
      "cell_type": "markdown",
      "source": [
        "Now, let's save the results in a file named \"predictions.csv\"."
      ],
      "metadata": {
        "id": "gAiXkMYqILd3"
      }
    },
    {
      "cell_type": "markdown",
      "source": [
        "In addition to individual image predictions, this code segment extends the results to a patient-level analysis. It calculates a majority vote for each patient based on their individual image predictions, using a user-defined positive threshold (default: 0.5). The results are stored in 'predictions_vote.csv,' which contains patient IDs and their corresponding majority vote predictions. This approach enables a more comprehensive evaluation of patient-level outcomes, considering multiple scans per patient in the analysis."
      ],
      "metadata": {
        "id": "_cIUL_wD4mAQ"
      }
    },
    {
      "cell_type": "code",
      "source": [
        "import csv\n",
        "import numpy as np\n",
        "\n",
        "# Set the desired threshold for considering predictions as positive\n",
        "positive_threshold = 0.5\n",
        "\n",
        "# Define the path for saving the CSV file\n",
        "output_csv_path = '/content/predictions_vote.csv'\n",
        "\n",
        "# Dictionary to store patient-wise predictions\n",
        "patient_predictions = {}\n",
        "\n",
        "# Populate the dictionary with individual image predictions\n",
        "for filename, prob_array in pred_dict.items():\n",
        "    patient_id = \"_\".join(filename.split('_')[:-1])  # Extract patient ID without the last part of the filename\n",
        "    prediction = prob_array[0][1]\n",
        "\n",
        "    if patient_id not in patient_predictions:\n",
        "        patient_predictions[patient_id] = []\n",
        "\n",
        "    patient_predictions[patient_id].append(prediction)\n",
        "\n",
        "# Calculate majority vote and save results to CSV\n",
        "with open(output_csv_path, 'w', newline='') as csvfile:\n",
        "    csvwriter = csv.writer(csvfile)\n",
        "    csvwriter.writerow(['Label', 'Predict'])\n",
        "\n",
        "    for patient_id, predictions in patient_predictions.items():\n",
        "        majority_vote = sum(predictions) / len(predictions)\n",
        "        if majority_vote >= positive_threshold or (1 - majority_vote) >= positive_threshold:\n",
        "            csvwriter.writerow([patient_id, majority_vote])  # Writing patient ID and majority vote prediction\n",
        "\n",
        "print(\"Prediction results saved to\", output_csv_path)\n"
      ],
      "metadata": {
        "colab": {
          "base_uri": "https://localhost:8080/"
        },
        "id": "T1tYhuvK4J2X",
        "outputId": "cde1a91b-8c3f-443e-a9b6-5dc249b63b60"
      },
      "execution_count": null,
      "outputs": [
        {
          "output_type": "stream",
          "name": "stdout",
          "text": [
            "Prediction results saved to /content/predictions_vote.csv\n"
          ]
        }
      ]
    },
    {
      "cell_type": "markdown",
      "source": [
        "Finally, let's draw the ROC curve and Confusion Matrix, along with other measurements."
      ],
      "metadata": {
        "id": "ocZIgdkzIWLY"
      }
    },
    {
      "cell_type": "code",
      "source": [
        "import pandas as pd\n",
        "import numpy as np\n",
        "from sklearn.metrics import roc_curve, auc\n",
        "import matplotlib.pyplot as plt\n",
        "\n",
        "# Load data from predictions.csv\n",
        "df = pd.read_csv('predictions_vote.csv')\n",
        "\n",
        "# Extract true labels and predicted probabilities\n",
        "true_labels = df['Label']\n",
        "predicted_probs = df['Predict']\n",
        "\n",
        "# Convert labels to binary format (0 for 'N_' and 1 for 'Y_')\n",
        "true_labels = true_labels.apply(lambda x: 0 if x.startswith('N_') else 1)\n",
        "\n",
        "# Calculate ROC curve and AUC\n",
        "fpr, tpr, thresholds = roc_curve(true_labels, predicted_probs)\n",
        "roc_auc = auc(fpr, tpr)\n",
        "\n",
        "# Plot ROC curve\n",
        "plt.figure()\n",
        "plt.plot(fpr, tpr, color='darkorange', lw=2, label='ROC curve (AUC = %0.2f)' % roc_auc)\n",
        "plt.plot([0, 1], [0, 1], color='navy', lw=2, linestyle='--')\n",
        "plt.xlim([0.0, 1.0])\n",
        "plt.ylim([0.0, 1.05])\n",
        "plt.xlabel('False Positive Rate')\n",
        "plt.ylabel('True Positive Rate')\n",
        "plt.title('Receiver Operating Characteristic')\n",
        "plt.legend(loc=\"lower right\")\n",
        "plt.savefig('roc.pdf', bbox_inches='tight')\n",
        "plt.show()"
      ],
      "metadata": {
        "colab": {
          "base_uri": "https://localhost:8080/",
          "height": 472
        },
        "id": "JgdoCxjB4C30",
        "outputId": "ef273826-1f73-44bf-86ae-62a55aa66df5"
      },
      "execution_count": null,
      "outputs": [
        {
          "output_type": "display_data",
          "data": {
            "text/plain": [
              "<Figure size 640x480 with 1 Axes>"
            ],
            "image/png": "[encoded data removed]"
          },
          "metadata": {}
        }
      ]
    },
    {
      "cell_type": "code",
      "source": [
        "import pandas as pd\n",
        "import numpy as np\n",
        "from sklearn.metrics import confusion_matrix\n",
        "import matplotlib.pyplot as plt\n",
        "import seaborn as sns\n",
        "\n",
        "# Read the CSV file containing predictions\n",
        "df = pd.read_csv('predictions_vote.csv')\n",
        "\n",
        "# Extract true labels and predicted probabilities\n",
        "true_labels = df['Label']\n",
        "\n",
        "# Preprocess true labels to extract class labels (e.g., 'ECE negative' or 'ECE positive')\n",
        "class_labels = ['ECE negative', 'ECE positive']\n",
        "true_labels_processed = [label[:2].replace('N_', 'ECE negative').replace('Y_', 'ECE positive') for label in true_labels]\n",
        "\n",
        "# Threshold to convert probabilities to binary predictions\n",
        "threshold = 0.5\n",
        "binary_predictions = np.where(df['Predict'] >= threshold, 'ECE positive', 'ECE negative')\n",
        "\n",
        "# Calculate confusion matrix\n",
        "cm = confusion_matrix(true_labels_processed, binary_predictions, labels=class_labels)\n",
        "\n",
        "# Extract TP, TN, FP, FN from confusion matrix\n",
        "tp = cm[1, 1]\n",
        "tn = cm[0, 0]\n",
        "fp = cm[0, 1]\n",
        "fn = cm[1, 0]\n",
        "\n",
        "# Calculate accuracy, sensitivity (True Positive Rate), and specificity (True Negative Rate)\n",
        "accuracy = (tp + tn) / (tp + tn + fp + fn)\n",
        "sensitivity = tp / (tp + fn)\n",
        "specificity = tn / (tn + fp)\n",
        "\n",
        "# Display TP, TN, FP, FN\n",
        "print(\"True Positive:\", tp)\n",
        "print(\"True Negative:\", tn)\n",
        "print(\"False Positive:\", fp)\n",
        "print(\"False Negative:\", fn)\n",
        "\n",
        "# Display accuracy, sensitivity, and specificity\n",
        "print(\"Accuracy:\", accuracy)\n",
        "print(\"Sensitivity (True Positive Rate):\", sensitivity)\n",
        "print(\"Specificity (True Negative Rate):\", specificity)\n",
        "\n",
        "# Create a heatmap of the confusion matrix\n",
        "plt.figure(figsize=(4, 3))  # Adjusted figure size for better visibility\n",
        "sns.heatmap(cm, annot=True, fmt='g', cmap='PuRd', xticklabels=class_labels, yticklabels=class_labels)  # Using 'g' as fmt to avoid scientific notation\n",
        "plt.xlabel('Predicted Labels')\n",
        "plt.ylabel('True Labels')\n",
        "plt.title('Confusion Matrix')\n",
        "\n",
        "\n",
        "# Save the figure to a PDF file\n",
        "plt.savefig('confusion_matrix.pdf', bbox_inches='tight')\n",
        "\n",
        "plt.show()\n"
      ],
      "metadata": {
        "colab": {
          "base_uri": "https://localhost:8080/",
          "height": 454
        },
        "id": "3d7bQa2HnKsf",
        "outputId": "af5c4ade-05d6-4250-c77d-a763f26bb6ca"
      },
      "execution_count": null,
      "outputs": [
        {
          "output_type": "stream",
          "name": "stdout",
          "text": [
            "True Positive: 42\n",
            "True Negative: 40\n",
            "False Positive: 10\n",
            "False Negative: 8\n",
            "Accuracy: 0.82\n",
            "Sensitivity (True Positive Rate): 0.84\n",
            "Specificity (True Negative Rate): 0.8\n"
          ]
        },
        {
          "output_type": "display_data",
          "data": {
            "text/plain": [
              "<Figure size 400x300 with 2 Axes>"
            ],
            "image/png": "[encoded data removed]"
          },
          "metadata": {}
        }
      ]
    }
  ]
}