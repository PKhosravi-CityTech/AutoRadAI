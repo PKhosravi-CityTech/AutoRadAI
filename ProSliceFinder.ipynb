{
  "nbformat": 4,
  "nbformat_minor": 0,
  "metadata": {
    "colab": {
      "provenance": [],
      "gpuType": "T4"
    },
    "kernelspec": {
      "name": "python3",
      "display_name": "Python 3"
    },
    "accelerator": "GPU"
  },
  "cells": [
    {
      "cell_type": "markdown",
      "source": [
        "<img src=\"https://github.com/PKhosravi-CityTech/LightCnnRad/raw/main/Images/BioMindLogo.png\" alt=\"BioMind AI Lab Logo\" width=\"150\" height=\"150\" align=\"left\" style=\"margin-bottom: 40px;\"> **Repository Developed by Pegah Khosravi, Principal Investigator of the BioMind AI Lab**\n",
        "\n",
        "Welcome to this repository! This repository is a result of collaborative efforts from our dedicated team at the lab. We are committed to advancing the field of biomedical AI and pushing the boundaries of medical data analysis. Your interest and contributions to our work are greatly appreciated. For more information about our lab and ongoing projects, please visit the [BioMind AI Lab website](https://sites.google.com/view/biomind-ai-lab). Thank you for your interest and support!\n"
      ],
      "metadata": {
        "id": "kOCbbKl1lREr"
      }
    },
    {
      "cell_type": "markdown",
      "source": [
        "# Upload images\n",
        "\n",
        "We are working with MR images provided at Global Robotics Institute."
      ],
      "metadata": {
        "id": "YlYwSU9mq5Uc"
      }
    },
    {
      "cell_type": "markdown",
      "source": [
        "Let's upload the images to Google Drive to ensure they are not lost every time we run the code in Colab."
      ],
      "metadata": {
        "id": "nFgyqRkvZ86b"
      }
    },
    {
      "cell_type": "code",
      "source": [
        "from google.colab import drive\n",
        "drive.mount('/content/gdrive')"
      ],
      "metadata": {
        "id": "sLIB2Tj8GJrf",
        "colab": {
          "base_uri": "https://localhost:8080/"
        },
        "outputId": "09e74af8-42d5-4f99-c484-5e545f6e991b"
      },
      "execution_count": 1,
      "outputs": [
        {
          "output_type": "stream",
          "name": "stdout",
          "text": [
            "Mounted at /content/gdrive\n"
          ]
        }
      ]
    },
    {
      "cell_type": "markdown",
      "source": [
        "Let's extract the contents of the compressed zip file."
      ],
      "metadata": {
        "id": "-HHAoVFaa2hn"
      }
    },
    {
      "cell_type": "code",
      "source": [
        "import zipfile\n",
        "!unzip \"/content/gdrive/MyDrive/ColabNotebooks_PegahKhosravi/Prostate_Project/DL_AutoRadAI/AutoRadAI_DL/Data_ProSliceFinder.zip\" -d data"
      ],
      "metadata": {
        "id": "QQnMkeTxQJL2"
      },
      "execution_count": null,
      "outputs": []
    },
    {
      "cell_type": "markdown",
      "source": [
        "Please remove the \"__MACOSX\" file; it is unnecessary for our purposes."
      ],
      "metadata": {
        "id": "tvJLso1ha-zs"
      }
    },
    {
      "cell_type": "code",
      "source": [
        "!rm -rf '/content/data/__MACOSX'"
      ],
      "metadata": {
        "id": "ZgUKFwZCXES4"
      },
      "execution_count": 3,
      "outputs": []
    },
    {
      "cell_type": "markdown",
      "source": [
        "Import all the necessary libraries."
      ],
      "metadata": {
        "id": "XdxAKGXDbGru"
      }
    },
    {
      "cell_type": "code",
      "source": [
        "#Load libraries\n",
        "import os\n",
        "import numpy as np\n",
        "import torch\n",
        "import glob\n",
        "import torch.nn as nn\n",
        "from torchvision.transforms import transforms\n",
        "from torch.utils.data import DataLoader\n",
        "from torch.optim import Adam\n",
        "from torch.autograd import Variable\n",
        "import torchvision\n",
        "import pathlib"
      ],
      "metadata": {
        "id": "XMkOOZD0PYAu"
      },
      "execution_count": 4,
      "outputs": []
    },
    {
      "cell_type": "code",
      "source": [
        "#checking for device\n",
        "device=torch.device('cuda' if torch.cuda.is_available() else 'cpu')"
      ],
      "metadata": {
        "id": "RCokUvYEPg9m"
      },
      "execution_count": 5,
      "outputs": []
    },
    {
      "cell_type": "code",
      "source": [
        "print(device)"
      ],
      "metadata": {
        "id": "rNCi6CfaPj6t",
        "colab": {
          "base_uri": "https://localhost:8080/"
        },
        "outputId": "bceb651c-4c44-4c9c-caae-4f3ad2434a51"
      },
      "execution_count": 6,
      "outputs": [
        {
          "output_type": "stream",
          "name": "stdout",
          "text": [
            "cuda\n"
          ]
        }
      ]
    },
    {
      "cell_type": "markdown",
      "source": [
        "Transforms are applied to the input images to prepare them for the deep learning model. These transformations include resizing the images to 512x512 pixels, randomly flipping them horizontally for data augmentation, converting them to tensors, and normalizing the pixel values to have a mean of 0.5 and a standard deviation of 0.5, resulting in a standardized input format suitable for the neural network."
      ],
      "metadata": {
        "id": "5uN0YdLB1q-g"
      }
    },
    {
      "cell_type": "code",
      "source": [
        "from torchvision import transforms\n",
        "\n",
        "# Updated Transforms\n",
        "transformer = transforms.Compose([\n",
        "    transforms.Resize((512, 512)),  # Changed from (256,256) to (512, 512)\n",
        "    transforms.RandomHorizontalFlip(),\n",
        "    transforms.ToTensor(),  # Converts image to tensor and scales pixels between 0 and 1\n",
        "    transforms.Normalize([0.5, 0.5, 0.5],  # Normalizes pixel values to [-1, 1]\n",
        "                         [0.5, 0.5, 0.5])\n",
        "])\n"
      ],
      "metadata": {
        "id": "XsVBXgfs_Ry2"
      },
      "execution_count": 7,
      "outputs": []
    },
    {
      "cell_type": "markdown",
      "source": [
        "This section sets up data loaders for training, validation, and testing. It loads images from specific directories, applies transformations, and creates batches for efficient processing during model training and evaluation."
      ],
      "metadata": {
        "id": "2n5xJ5VA12En"
      }
    },
    {
      "cell_type": "code",
      "source": [
        "#Dataloader\n",
        "\n",
        "#Path for Training, Validation, and Test directory\n",
        "train_path=\"/content/data/Data_ProSliceFinder/Training\"\n",
        "validation_path=\"/content/data/Data_ProSliceFinder/Validation\"\n",
        "pred_path=\"/content/data/Data_ProSliceFinder/Test\"\n",
        "\n",
        "train_loader=DataLoader(\n",
        "    torchvision.datasets.ImageFolder(train_path,transform=transformer),\n",
        "    batch_size=64, shuffle=True\n",
        ")\n",
        "validation_loader=DataLoader(\n",
        "    torchvision.datasets.ImageFolder(validation_path,transform=transformer),\n",
        "    batch_size=32, shuffle=True\n",
        ")"
      ],
      "metadata": {
        "id": "yMvgAJZQPo2Y"
      },
      "execution_count": 8,
      "outputs": []
    },
    {
      "cell_type": "code",
      "source": [
        "#categories\n",
        "root=pathlib.Path(train_path)\n",
        "classes=sorted([j.name.split('/')[-1] for j in root.iterdir()])"
      ],
      "metadata": {
        "id": "Z6-mtBaPSh1P"
      },
      "execution_count": 11,
      "outputs": []
    },
    {
      "cell_type": "markdown",
      "source": [
        "Remove the \".DS_Store\" file from the training, validation, and test sets, as it is not needed. Please execute this section twice for each set, and before each run, ensure to execute the code above to ensure a clear path from the root."
      ],
      "metadata": {
        "id": "dt0P3bAkbRNN"
      }
    },
    {
      "cell_type": "code",
      "source": [
        "!rm \"/content/data/Data_ProSliceFinder/Training/.DS_Store\"\n",
        "!rm \"/content/data/Data_ProSliceFinder/Validation/.DS_Store\"\n",
        "!rm \"/content/data/Data_ProSliceFinder/Test/.DS_Store\""
      ],
      "metadata": {
        "id": "gpQn_FMGky2q",
        "colab": {
          "base_uri": "https://localhost:8080/"
        },
        "outputId": "cbe434af-1ef9-44e8-8327-ed5b16b99162"
      },
      "execution_count": 12,
      "outputs": [
        {
          "output_type": "stream",
          "name": "stdout",
          "text": [
            "rm: cannot remove '/content/data/Data_ProSliceFinder/Training/.DS_Store': No such file or directory\n",
            "rm: cannot remove '/content/data/Data_ProSliceFinder/Validation/.DS_Store': No such file or directory\n",
            "rm: cannot remove '/content/data/Data_ProSliceFinder/Test/.DS_Store': No such file or directory\n"
          ]
        }
      ]
    },
    {
      "cell_type": "markdown",
      "source": [
        "Here, we define the categories or classes within our dataset. It scans the training data directory, extracts the category names from the directory structure, and sorts them alphabetically for reference in our image classification task."
      ],
      "metadata": {
        "id": "8GBUYsrF2Eau"
      }
    },
    {
      "cell_type": "code",
      "source": [
        "print(classes)"
      ],
      "metadata": {
        "id": "j1ba_us9Kg-0",
        "colab": {
          "base_uri": "https://localhost:8080/"
        },
        "outputId": "57c249a7-0447-44b4-9b66-9eae617b669a"
      },
      "execution_count": 13,
      "outputs": [
        {
          "output_type": "stream",
          "name": "stdout",
          "text": [
            "['Distinct', 'Non-Distinct']\n"
          ]
        }
      ]
    },
    {
      "cell_type": "markdown",
      "source": [
        "In this section, we outline the architecture of the ProSliceFinder model."
      ],
      "metadata": {
        "id": "zN5ir6--2-xU"
      }
    },
    {
      "cell_type": "code",
      "source": [
        "import torch\n",
        "import torch.nn as nn\n",
        "\n",
        "class ProSliceFinder(nn.Module):\n",
        "    def __init__(self, num_classes=2):\n",
        "        super(ProSliceFinder, self).__init__()\n",
        "\n",
        "        # Reduced number of blocks from 4 to 3 and decreased channels\n",
        "\n",
        "        # Depthwise Separable Convolution Block 1\n",
        "        self.conv1_dw = nn.Conv2d(in_channels=3, out_channels=3, kernel_size=3, stride=1, padding=1, groups=3)\n",
        "        self.conv1_pw = nn.Conv2d(in_channels=3, out_channels=12, kernel_size=1, stride=1, padding=0)\n",
        "        self.bn1 = nn.BatchNorm2d(num_features=12)\n",
        "        self.relu1 = nn.ReLU()\n",
        "        self.pool = nn.MaxPool2d(kernel_size=2, stride=2)\n",
        "\n",
        "        # Depthwise Separable Convolution Block 2\n",
        "        self.conv2_dw = nn.Conv2d(in_channels=12, out_channels=12, kernel_size=3, stride=1, padding=1, groups=12)\n",
        "        self.conv2_pw = nn.Conv2d(in_channels=12, out_channels=24, kernel_size=1)\n",
        "        self.bn2 = nn.BatchNorm2d(num_features=24)\n",
        "        self.relu2 = nn.ReLU()\n",
        "        self.pool = nn.MaxPool2d(kernel_size=2, stride=2)\n",
        "\n",
        "        # Depthwise Separable Convolution Block 3\n",
        "        self.conv3_dw = nn.Conv2d(in_channels=24, out_channels=24, kernel_size=3, stride=1, padding=1, groups=24)\n",
        "        self.conv3_pw = nn.Conv2d(in_channels=24, out_channels=36, kernel_size=1)\n",
        "        self.bn3 = nn.BatchNorm2d(num_features=36)\n",
        "        self.relu3 = nn.ReLU()\n",
        "        self.pool = nn.MaxPool2d(kernel_size=2, stride=2)\n",
        "\n",
        "        # Calculate the size of the output from the last pooling layer\n",
        "        final_dim = 512 // (2 ** 3)  # 512 / 8 = 64 (adjusting for fewer blocks)\n",
        "        final_output_size = 36 * 64 * 64  # 36 channels * 64x64\n",
        "\n",
        "        # Fully connected layers\n",
        "        self.fc1 = nn.Linear(in_features=final_output_size, out_features=128)\n",
        "        self.relu5 = nn.ReLU()\n",
        "        self.dropout = nn.Dropout(p=0.6)\n",
        "        self.fc2 = nn.Linear(in_features=128, out_features=num_classes)\n",
        "\n",
        "    def forward(self, input):\n",
        "        output = self.conv1_dw(input)\n",
        "        output = self.conv1_pw(output)\n",
        "        output = self.bn1(output)\n",
        "        output = self.relu1(output)\n",
        "        output = self.pool(output)\n",
        "\n",
        "        output = self.conv2_dw(output)\n",
        "        output = self.conv2_pw(output)\n",
        "        output = self.bn2(output)\n",
        "        output = self.relu2(output)\n",
        "        output = self.pool(output)\n",
        "\n",
        "        output = self.conv3_dw(output)\n",
        "        output = self.conv3_pw(output)\n",
        "        output = self.bn3(output)\n",
        "        output = self.relu3(output)\n",
        "        output = self.pool(output)\n",
        "\n",
        "        output = output.view(-1, 36 * 64 * 64)  # Adjusted to the new size of the flattened layer\n",
        "\n",
        "        output = self.fc1(output)\n",
        "        output = self.relu5(output)\n",
        "        output = self.dropout(output)\n",
        "        output = self.fc2(output)\n",
        "\n",
        "        return output\n",
        "\n",
        "# Instantiate the model\n",
        "device = torch.device('cuda' if torch.cuda.is_available() else 'cpu')\n",
        "model = ProSliceFinder(num_classes=2).to(device)\n"
      ],
      "metadata": {
        "id": "YdDtdMQRqyPS"
      },
      "execution_count": 14,
      "outputs": []
    },
    {
      "cell_type": "code",
      "source": [
        "from torchsummary import summary\n",
        "\n",
        "model=model.cuda()\n",
        "\n",
        "summary(model, (3,512,512))"
      ],
      "metadata": {
        "colab": {
          "base_uri": "https://localhost:8080/"
        },
        "id": "LfZDMc3mqzIH",
        "outputId": "57b771ec-f98b-4ee0-e0ac-59072e865bdf"
      },
      "execution_count": 15,
      "outputs": [
        {
          "output_type": "stream",
          "name": "stdout",
          "text": [
            "----------------------------------------------------------------\n",
            "        Layer (type)               Output Shape         Param #\n",
            "================================================================\n",
            "            Conv2d-1          [-1, 3, 512, 512]              30\n",
            "            Conv2d-2         [-1, 12, 512, 512]              48\n",
            "       BatchNorm2d-3         [-1, 12, 512, 512]              24\n",
            "              ReLU-4         [-1, 12, 512, 512]               0\n",
            "         MaxPool2d-5         [-1, 12, 256, 256]               0\n",
            "            Conv2d-6         [-1, 12, 256, 256]             120\n",
            "            Conv2d-7         [-1, 24, 256, 256]             312\n",
            "       BatchNorm2d-8         [-1, 24, 256, 256]              48\n",
            "              ReLU-9         [-1, 24, 256, 256]               0\n",
            "        MaxPool2d-10         [-1, 24, 128, 128]               0\n",
            "           Conv2d-11         [-1, 24, 128, 128]             240\n",
            "           Conv2d-12         [-1, 36, 128, 128]             900\n",
            "      BatchNorm2d-13         [-1, 36, 128, 128]              72\n",
            "             ReLU-14         [-1, 36, 128, 128]               0\n",
            "        MaxPool2d-15           [-1, 36, 64, 64]               0\n",
            "           Linear-16                  [-1, 128]      18,874,496\n",
            "             ReLU-17                  [-1, 128]               0\n",
            "          Dropout-18                  [-1, 128]               0\n",
            "           Linear-19                    [-1, 2]             258\n",
            "================================================================\n",
            "Total params: 18,876,548\n",
            "Trainable params: 18,876,548\n",
            "Non-trainable params: 0\n",
            "----------------------------------------------------------------\n",
            "Input size (MB): 3.00\n",
            "Forward/backward pass size (MB): 146.63\n",
            "Params size (MB): 72.01\n",
            "Estimated Total Size (MB): 221.64\n",
            "----------------------------------------------------------------\n"
          ]
        }
      ]
    },
    {
      "cell_type": "markdown",
      "source": [
        "Now, let's define the optimizer and Loss function."
      ],
      "metadata": {
        "id": "DjeRt9LScKOW"
      }
    },
    {
      "cell_type": "code",
      "source": [
        "#https://analyticsindiamag.com/ultimate-guide-to-pytorch-optimizers/\n",
        "from torch.optim.adamw import AdamW\n",
        "from torch.optim.adamax import Adamax\n",
        "from torch.optim.sparse_adam import SparseAdam\n",
        "from torch.optim.sgd import SGD\n",
        "from torch.optim.adagrad import Adagrad\n",
        "from torch.optim.rmsprop import RMSprop"
      ],
      "metadata": {
        "id": "VG0Xr5vyL8Fh"
      },
      "execution_count": 16,
      "outputs": []
    },
    {
      "cell_type": "code",
      "source": [
        "optimizer = RMSprop(\n",
        "    model.parameters(),\n",
        "    lr=0.0001,      # Slightly higher starting learning rate\n",
        "    alpha=0.9,       # Adjusted alpha\n",
        "    eps=1e-08,\n",
        "    weight_decay=0.0001,\n",
        "    momentum=0.5,    # Added momentum\n",
        "    centered=False\n",
        ")\n"
      ],
      "metadata": {
        "id": "fJ44IPTZA8aX"
      },
      "execution_count": 17,
      "outputs": []
    },
    {
      "cell_type": "code",
      "source": [
        "loss_function=nn.CrossEntropyLoss()"
      ],
      "metadata": {
        "id": "q8mc-Y2R3XFQ"
      },
      "execution_count": 18,
      "outputs": []
    },
    {
      "cell_type": "markdown",
      "source": [
        "Next, let's set the desired number of epochs for training the model."
      ],
      "metadata": {
        "id": "4CvpeT9fbxcB"
      }
    },
    {
      "cell_type": "code",
      "source": [
        "num_epochs=50"
      ],
      "metadata": {
        "id": "4VqtmczrTe9f"
      },
      "execution_count": 19,
      "outputs": []
    },
    {
      "cell_type": "code",
      "source": [
        "#calculating the size of training and testing images\n",
        "train_count=len(glob.glob(train_path+'/**/*.png'))\n",
        "validation_count=len(glob.glob(validation_path+'/**/*.png'))"
      ],
      "metadata": {
        "id": "iFZCkhPTThGr"
      },
      "execution_count": 20,
      "outputs": []
    },
    {
      "cell_type": "markdown",
      "source": [
        "Now, let's take a look at the number of images present in both the training and validation folders."
      ],
      "metadata": {
        "id": "Jk-uHTmBGuXL"
      }
    },
    {
      "cell_type": "code",
      "source": [
        "print(train_count,validation_count)"
      ],
      "metadata": {
        "id": "cvot-HH2T9Mc",
        "colab": {
          "base_uri": "https://localhost:8080/"
        },
        "outputId": "7a579fb5-9977-4afc-d128-f4b87b71a951"
      },
      "execution_count": 21,
      "outputs": [
        {
          "output_type": "stream",
          "name": "stdout",
          "text": [
            "2736 457\n"
          ]
        }
      ]
    },
    {
      "cell_type": "markdown",
      "source": [
        "Now, we proceed with training the model for the specified number of epochs using the images from the training and validation folders. During each epoch, we assess the model's performance, ultimately saving the best-performing model."
      ],
      "metadata": {
        "id": "-SG5I_Iu3c9c"
      }
    },
    {
      "cell_type": "code",
      "source": [
        "import torch\n",
        "import numpy as np\n",
        "import random\n",
        "\n",
        "# Set seed for reproducibility\n",
        "seed = 42\n",
        "torch.manual_seed(seed)\n",
        "np.random.seed(seed)\n",
        "random.seed(seed)\n",
        "\n",
        "# Optional: Ensures that every run on the same machine yields the same result\n",
        "torch.backends.cudnn.deterministic = False\n",
        "torch.backends.cudnn.benchmark = False\n",
        "\n",
        "# Continue with the rest of your imports and code\n",
        "import matplotlib.pyplot as plt\n",
        "from torch.autograd import Variable\n",
        "\n"
      ],
      "metadata": {
        "id": "IslcM7EFaw52"
      },
      "execution_count": 22,
      "outputs": []
    },
    {
      "cell_type": "code",
      "source": [
        "import matplotlib.pyplot as plt\n",
        "from torch.autograd import Variable\n",
        "import torch\n",
        "\n",
        "# Initialize lists to store accuracy and loss values\n",
        "train_accuracies = []\n",
        "validation_accuracies = []\n",
        "train_losses = []\n",
        "validation_losses = []\n",
        "\n",
        "# Model training and saving best model\n",
        "best_accuracy = 0.0\n",
        "patience = 5  # Set the patience for early stopping\n",
        "patience_counter = 0  # Counter to track the number of epochs without improvement\n",
        "\n",
        "for epoch in range(num_epochs):\n",
        "    # Evaluation and training on the training dataset\n",
        "    model.train()\n",
        "    train_accuracy = 0.0\n",
        "    train_loss = 0.0\n",
        "\n",
        "    for i, (images, labels) in enumerate(train_loader):\n",
        "        if torch.cuda.is_available():\n",
        "            images = images.cuda()\n",
        "            labels = labels.cuda()\n",
        "\n",
        "        optimizer.zero_grad()\n",
        "\n",
        "        outputs = model(images)\n",
        "        loss = loss_function(outputs, labels)\n",
        "        loss.backward()\n",
        "        optimizer.step()\n",
        "\n",
        "        train_loss += loss.item() * images.size(0)  # Adjusted to use the actual batch size\n",
        "        _, prediction = torch.max(outputs, 1)\n",
        "        train_accuracy += torch.sum(prediction == labels).item()\n",
        "\n",
        "    train_accuracy /= len(train_loader.dataset)\n",
        "    train_loss /= len(train_loader.dataset)\n",
        "\n",
        "    # Evaluation mode for the validation process\n",
        "    model.eval()\n",
        "    validation_accuracy = 0.0\n",
        "    validation_loss = 0.0\n",
        "\n",
        "    for i, (images, labels) in enumerate(validation_loader):\n",
        "        if torch.cuda.is_available():\n",
        "            images = images.cuda()\n",
        "            labels = labels.cuda()\n",
        "\n",
        "        with torch.no_grad():\n",
        "            outputs = model(images)\n",
        "            loss = loss_function(outputs, labels)\n",
        "            validation_loss += loss.item() * images.size(0)\n",
        "            _, prediction = torch.max(outputs, 1)\n",
        "            validation_accuracy += torch.sum(prediction == labels).item()\n",
        "\n",
        "    validation_accuracy /= len(validation_loader.dataset)\n",
        "    validation_loss /= len(validation_loader.dataset)\n",
        "\n",
        "    # Logging the metrics\n",
        "    print(f'Epoch: {epoch} Train Loss: {train_loss:.4f} Validation Loss: {validation_loss:.4f} Train Accuracy: {train_accuracy:.4f} Validation Accuracy: {validation_accuracy:.4f}')\n",
        "\n",
        "    # Append accuracy and loss values to the lists\n",
        "    train_accuracies.append(train_accuracy)\n",
        "    validation_accuracies.append(validation_accuracy)\n",
        "    train_losses.append(train_loss)\n",
        "    validation_losses.append(validation_loss)\n",
        "\n",
        "    # Check if the current model is the best one\n",
        "    if validation_accuracy > best_accuracy:\n",
        "        torch.save(model.state_dict(), 'best_checkpoint.model')\n",
        "        best_accuracy = validation_accuracy\n",
        "        patience_counter = 0  # Reset the patience counter if there's an improvement\n",
        "    else:\n",
        "        patience_counter += 1  # Increment the counter if no improvement\n",
        "\n",
        "    # Early stopping check\n",
        "    if patience_counter > patience:\n",
        "        print(\"Early stopping triggered\")\n",
        "        break  # Break the loop if early stopping criteria met\n",
        "\n",
        "# Plotting or further analysis could go here\n"
      ],
      "metadata": {
        "colab": {
          "base_uri": "https://localhost:8080/"
        },
        "id": "pjGwYuEdNESG",
        "outputId": "bd04462b-94ce-4736-fc83-d97648e01277"
      },
      "execution_count": 23,
      "outputs": [
        {
          "output_type": "stream",
          "name": "stdout",
          "text": [
            "Epoch: 0 Train Loss: 3.0643 Validation Loss: 0.5556 Train Accuracy: 0.6221 Validation Accuracy: 0.7681\n",
            "Epoch: 1 Train Loss: 0.5683 Validation Loss: 0.3802 Train Accuracy: 0.7211 Validation Accuracy: 0.8359\n",
            "Epoch: 2 Train Loss: 0.4731 Validation Loss: 0.5282 Train Accuracy: 0.7844 Validation Accuracy: 0.6893\n",
            "Epoch: 3 Train Loss: 0.4413 Validation Loss: 0.3461 Train Accuracy: 0.7971 Validation Accuracy: 0.8687\n",
            "Epoch: 4 Train Loss: 0.4239 Validation Loss: 0.3727 Train Accuracy: 0.8264 Validation Accuracy: 0.8315\n",
            "Epoch: 5 Train Loss: 0.5677 Validation Loss: 0.2683 Train Accuracy: 0.7961 Validation Accuracy: 0.8621\n",
            "Epoch: 6 Train Loss: 0.4072 Validation Loss: 0.2595 Train Accuracy: 0.8341 Validation Accuracy: 0.8906\n",
            "Epoch: 7 Train Loss: 0.3232 Validation Loss: 0.2698 Train Accuracy: 0.8596 Validation Accuracy: 0.8862\n",
            "Epoch: 8 Train Loss: 0.3111 Validation Loss: 0.2715 Train Accuracy: 0.8673 Validation Accuracy: 0.8796\n",
            "Epoch: 9 Train Loss: 0.3221 Validation Loss: 0.2414 Train Accuracy: 0.8673 Validation Accuracy: 0.8840\n",
            "Epoch: 10 Train Loss: 0.2985 Validation Loss: 0.2851 Train Accuracy: 0.8706 Validation Accuracy: 0.8775\n",
            "Epoch: 11 Train Loss: 0.3642 Validation Loss: 0.2644 Train Accuracy: 0.8633 Validation Accuracy: 0.8884\n",
            "Epoch: 12 Train Loss: 0.2963 Validation Loss: 0.2398 Train Accuracy: 0.8816 Validation Accuracy: 0.8950\n",
            "Epoch: 13 Train Loss: 0.2420 Validation Loss: 0.2460 Train Accuracy: 0.8955 Validation Accuracy: 0.8993\n",
            "Epoch: 14 Train Loss: 0.2664 Validation Loss: 0.3782 Train Accuracy: 0.8863 Validation Accuracy: 0.8621\n",
            "Epoch: 15 Train Loss: 0.2432 Validation Loss: 0.8946 Train Accuracy: 0.8977 Validation Accuracy: 0.7352\n",
            "Epoch: 16 Train Loss: 0.2714 Validation Loss: 0.2261 Train Accuracy: 0.8940 Validation Accuracy: 0.9081\n",
            "Epoch: 17 Train Loss: 0.2269 Validation Loss: 0.2771 Train Accuracy: 0.9035 Validation Accuracy: 0.8928\n",
            "Epoch: 18 Train Loss: 0.2273 Validation Loss: 0.2547 Train Accuracy: 0.8991 Validation Accuracy: 0.8906\n",
            "Epoch: 19 Train Loss: 0.2010 Validation Loss: 0.2332 Train Accuracy: 0.9105 Validation Accuracy: 0.9059\n",
            "Epoch: 20 Train Loss: 0.2258 Validation Loss: 0.2838 Train Accuracy: 0.9042 Validation Accuracy: 0.8884\n",
            "Epoch: 21 Train Loss: 0.2044 Validation Loss: 0.3023 Train Accuracy: 0.9130 Validation Accuracy: 0.8818\n",
            "Epoch: 22 Train Loss: 0.1942 Validation Loss: 0.2315 Train Accuracy: 0.9225 Validation Accuracy: 0.9037\n",
            "Early stopping triggered\n"
          ]
        }
      ]
    },
    {
      "cell_type": "markdown",
      "source": [
        "In this code section, we create visualizations to track the training and validation accuracy, as well as the training and validation loss. The left subplot displays accuracy trends, while the right subplot shows loss trends. These visualizations offer insights into how the model performs and converges during training."
      ],
      "metadata": {
        "id": "cc55Xna04B1C"
      }
    },
    {
      "cell_type": "code",
      "source": [
        "# Plotting the accuracy trends\n",
        "plt.figure(figsize=(10, 5))\n",
        "plt.subplot(1, 2, 1)\n",
        "plt.plot(train_accuracies, label='Training Accuracy')\n",
        "plt.plot(validation_accuracies, label='Validation Accuracy')\n",
        "plt.xlabel('Epochs')\n",
        "plt.ylabel('Accuracy')\n",
        "plt.title('Accuracy Trends')\n",
        "plt.legend()\n",
        "plt.ylim(0, 1)  # Set y-axis limits from 0 to 1\n",
        "\n",
        "# Plotting the loss trends\n",
        "plt.subplot(1, 2, 2)\n",
        "plt.plot(train_losses, label='Training Loss')\n",
        "plt.plot(validation_losses, label='Validation Loss')\n",
        "plt.xlabel('Epochs')\n",
        "plt.ylabel('Loss')\n",
        "plt.title('Loss Trends')\n",
        "plt.legend()\n",
        "plt.ylim(0, max(max(train_losses), max(validation_losses)))  # Set y-axis limits from 0 to max value in data\n",
        "\n",
        "# Display the plots\n",
        "plt.tight_layout()\n",
        "plt.show()"
      ],
      "metadata": {
        "id": "iBGHIWevH4IS",
        "colab": {
          "base_uri": "https://localhost:8080/",
          "height": 507
        },
        "outputId": "d72cf9cb-1ec8-4b9f-fcbe-f41541825d1d"
      },
      "execution_count": 24,
      "outputs": [
        {
          "output_type": "display_data",
          "data": {
            "text/plain": [
              "<Figure size 1000x500 with 2 Axes>"
            ],
            "image/png": "[encoded data removed]"
          },
          "metadata": {}
        }
      ]
    },
    {
      "cell_type": "markdown",
      "source": [
        "Now, let's test the best model on a blind test set. You can proceed with the following code for prediction."
      ],
      "metadata": {
        "id": "RA-Zkb0scBlx"
      }
    },
    {
      "cell_type": "code",
      "source": [
        "import torch\n",
        "import torch.nn as nn\n",
        "from torchvision.transforms import transforms\n",
        "import numpy as np\n",
        "from torch.autograd import Variable\n",
        "from torchvision.models import squeezenet1_1\n",
        "import torch.functional as F\n",
        "from io import open\n",
        "import os\n",
        "from PIL import Image\n",
        "import pathlib\n",
        "import glob\n",
        "import cv2"
      ],
      "metadata": {
        "id": "0m680Ylp38c1"
      },
      "execution_count": 25,
      "outputs": []
    },
    {
      "cell_type": "code",
      "source": [
        "train_path=\"/content/data/Data_ProSliceFinder/Training\"\n",
        "pred_path=\"/content/data/Data_ProSliceFinder/Test\""
      ],
      "metadata": {
        "id": "gbIAr4-z4CUM"
      },
      "execution_count": 26,
      "outputs": []
    },
    {
      "cell_type": "code",
      "source": [
        "test_count=len(glob.glob(pred_path+'/*.png'))"
      ],
      "metadata": {
        "id": "2ydXcDct4DPj"
      },
      "execution_count": 27,
      "outputs": []
    },
    {
      "cell_type": "code",
      "source": [
        "print(test_count)"
      ],
      "metadata": {
        "colab": {
          "base_uri": "https://localhost:8080/"
        },
        "id": "lOnfdmDP4DM8",
        "outputId": "75468f28-004b-4fce-c5a1-7d7127efb4c4"
      },
      "execution_count": 28,
      "outputs": [
        {
          "output_type": "stream",
          "name": "stdout",
          "text": [
            "467\n"
          ]
        }
      ]
    },
    {
      "cell_type": "code",
      "source": [
        "#categories\n",
        "root=pathlib.Path(train_path)\n",
        "classes=sorted([j.name.split('/')[-1] for j in root.iterdir()])"
      ],
      "metadata": {
        "id": "GJkSZXHB4DKE"
      },
      "execution_count": 29,
      "outputs": []
    },
    {
      "cell_type": "code",
      "source": [
        "checkpoint=torch.load(\"best_checkpoint.model\")\n",
        "model=ProSliceFinder(num_classes=2)\n",
        "model.load_state_dict(checkpoint)\n",
        "model.eval()"
      ],
      "metadata": {
        "id": "b8_kT0GG4C_2",
        "colab": {
          "base_uri": "https://localhost:8080/"
        },
        "outputId": "a2ffd282-32ba-4e19-ecc9-bdf7a4880080"
      },
      "execution_count": 30,
      "outputs": [
        {
          "output_type": "execute_result",
          "data": {
            "text/plain": [
              "ProSliceFinder(\n",
              "  (conv1_dw): Conv2d(3, 3, kernel_size=(3, 3), stride=(1, 1), padding=(1, 1), groups=3)\n",
              "  (conv1_pw): Conv2d(3, 12, kernel_size=(1, 1), stride=(1, 1))\n",
              "  (bn1): BatchNorm2d(12, eps=1e-05, momentum=0.1, affine=True, track_running_stats=True)\n",
              "  (relu1): ReLU()\n",
              "  (pool): MaxPool2d(kernel_size=2, stride=2, padding=0, dilation=1, ceil_mode=False)\n",
              "  (conv2_dw): Conv2d(12, 12, kernel_size=(3, 3), stride=(1, 1), padding=(1, 1), groups=12)\n",
              "  (conv2_pw): Conv2d(12, 24, kernel_size=(1, 1), stride=(1, 1))\n",
              "  (bn2): BatchNorm2d(24, eps=1e-05, momentum=0.1, affine=True, track_running_stats=True)\n",
              "  (relu2): ReLU()\n",
              "  (conv3_dw): Conv2d(24, 24, kernel_size=(3, 3), stride=(1, 1), padding=(1, 1), groups=24)\n",
              "  (conv3_pw): Conv2d(24, 36, kernel_size=(1, 1), stride=(1, 1))\n",
              "  (bn3): BatchNorm2d(36, eps=1e-05, momentum=0.1, affine=True, track_running_stats=True)\n",
              "  (relu3): ReLU()\n",
              "  (fc1): Linear(in_features=147456, out_features=128, bias=True)\n",
              "  (relu5): ReLU()\n",
              "  (dropout): Dropout(p=0.6, inplace=False)\n",
              "  (fc2): Linear(in_features=128, out_features=2, bias=True)\n",
              ")"
            ]
          },
          "metadata": {},
          "execution_count": 30
        }
      ]
    },
    {
      "cell_type": "code",
      "source": [
        "from torchvision import transforms\n",
        "\n",
        "# Updated Transforms\n",
        "transformer = transforms.Compose([\n",
        "    transforms.Resize((512, 512)),  # Changed from (256,256) to (512, 512)\n",
        "    transforms.ToTensor(),  # Converts image to tensor and scales pixels between 0 and 1\n",
        "    transforms.Normalize([0.5, 0.5, 0.5],  # Normalizes pixel values to [-1, 1]\n",
        "                         [0.5, 0.5, 0.5])\n",
        "])\n"
      ],
      "metadata": {
        "id": "WMoaMwet4w6D"
      },
      "execution_count": 31,
      "outputs": []
    },
    {
      "cell_type": "markdown",
      "source": [
        "This code defines a prediction function to assess new MRI images using the trained ProSliceFinder model. It processes each image, generates predictions, and stores them in a dictionary. Finally, the probabilities are printed in the desired format for further analysis."
      ],
      "metadata": {
        "id": "XYGPWMH14Ll7"
      }
    },
    {
      "cell_type": "code",
      "source": [
        "# Prediction function to predict class probabilities for an input image\n",
        "def prediction(img_path, transformer, model):\n",
        "    # Open and load the input image\n",
        "    image = Image.open(img_path)\n",
        "\n",
        "    # Apply transformations to the image\n",
        "    image_tensor = transformer(image).float()\n",
        "    image_tensor = image_tensor.unsqueeze_(0)\n",
        "\n",
        "    if torch.cuda.is_available():\n",
        "        image_tensor = image_tensor.cuda()\n",
        "\n",
        "    # Perform inference (no need to compute gradients)\n",
        "    with torch.no_grad():\n",
        "        input = Variable(image_tensor)\n",
        "        output = model(input)\n",
        "\n",
        "    # Calculate class probabilities using softmax\n",
        "    prob = nn.functional.softmax(output, dim=1)\n",
        "\n",
        "    # Convert the tensor to a numpy array and move it to CPU\n",
        "    prob = prob.cpu().detach().numpy()\n",
        "\n",
        "    return prob\n",
        "\n",
        "# Load the trained model and move it to the appropriate device (CPU or GPU)\n",
        "model = ProSliceFinder(num_classes=2)  # Create an instance of the LightCnnRad\n",
        "model.load_state_dict(checkpoint)  # Load the trained model's weights\n",
        "if torch.cuda.is_available():\n",
        "    model.cuda()  # Move the model to GPU if available\n",
        "\n",
        "# Get a list of image paths to predict\n",
        "images_path = glob.glob(pred_path + '/*.png')\n",
        "\n",
        "# Dictionary to store predictions\n",
        "pred_dict = {}\n",
        "\n",
        "# Loop through each image and make predictions\n",
        "for i in images_path:\n",
        "    filename = i[i.rfind('/') + 1:]  # Extract the filename from the path\n",
        "    prob_array = prediction(i, transformer, model)  # Get predicted probabilities\n",
        "    pred_dict[filename] = prob_array  # Store the probabilities in the dictionary\n",
        "\n",
        "# Print the probabilities in the desired format\n",
        "for filename, prob_array in pred_dict.items():\n",
        "    formatted_prob_array = np.array2string(\n",
        "        prob_array, separator=', ', formatter={'float_kind': lambda x: f'{x:.8e}'}\n",
        "    )\n",
        "    print(f\"'{filename}': np.array({formatted_prob_array}, dtype=np.float32),\")"
      ],
      "metadata": {
        "id": "gCu4jqHdVtJC",
        "colab": {
          "base_uri": "https://localhost:8080/"
        },
        "outputId": "006cd41d-2b5b-4aff-bb4a-b4b0d6bbe3a4"
      },
      "execution_count": 32,
      "outputs": [
        {
          "output_type": "stream",
          "name": "stdout",
          "text": [
            "'Non_N_265_13.png': np.array([[2.56736457e-01, 7.43263602e-01]], dtype=np.float32),\n",
            "'Non_Y_922_4.png': np.array([[7.35950947e-01, 2.64049083e-01]], dtype=np.float32),\n",
            "'Non_N_255_25.png': np.array([[4.65097353e-02, 9.53490257e-01]], dtype=np.float32),\n",
            "'Dis_N_624_10.png': np.array([[6.74356474e-03, 9.93256450e-01]], dtype=np.float32),\n",
            "'Dis_Y_889_13.png': np.array([[8.05908501e-01, 1.94091514e-01]], dtype=np.float32),\n",
            "'Dis_N_265_4.png': np.array([[9.87984836e-01, 1.20151835e-02]], dtype=np.float32),\n",
            "'Non_N_259_3.png': np.array([[8.43440648e-05, 9.99915600e-01]], dtype=np.float32),\n",
            "'Non_N_257_24.png': np.array([[3.31383490e-06, 9.99996662e-01]], dtype=np.float32),\n",
            "'Non_Y_428_25.png': np.array([[3.03270936e-01, 6.96729064e-01]], dtype=np.float32),\n",
            "'Non_N_255_18.png': np.array([[3.59831005e-02, 9.64016914e-01]], dtype=np.float32),\n",
            "'Dis_Y_889_34.png': np.array([[9.99236226e-01, 7.63773976e-04]], dtype=np.float32),\n",
            "'Dis_N_624_1.png': np.array([[5.31168759e-01, 4.68831241e-01]], dtype=np.float32),\n",
            "'Non_Y_360_10.png': np.array([[4.28416606e-05, 9.99957204e-01]], dtype=np.float32),\n",
            "'Non_Y_448_13.png': np.array([[5.84584341e-05, 9.99941587e-01]], dtype=np.float32),\n",
            "'Non_Y_360_15.png': np.array([[4.76232497e-04, 9.99523759e-01]], dtype=np.float32),\n",
            "'Dis_Y_889_7.png': np.array([[9.90787446e-01, 9.21251159e-03]], dtype=np.float32),\n",
            "'Dis_Y_440_25.png': np.array([[9.44721878e-01, 5.52780926e-02]], dtype=np.float32),\n",
            "'Dis_N_294_14.png': np.array([[9.85818207e-01, 1.41817620e-02]], dtype=np.float32),\n",
            "'Dis_Y_876_11.png': np.array([[2.07183197e-01, 7.92816877e-01]], dtype=np.float32),\n",
            "'Dis_Y_889_17.png': np.array([[9.99999404e-01, 6.36231903e-07]], dtype=np.float32),\n",
            "'Dis_N_294_2.png': np.array([[9.98448610e-01, 1.55142008e-03]], dtype=np.float32),\n",
            "'Non_Y_351_2.png': np.array([[2.18527461e-03, 9.97814655e-01]], dtype=np.float32),\n",
            "'Dis_N_255_13.png': np.array([[9.99967456e-01, 3.25053261e-05]], dtype=np.float32),\n",
            "'Dis_N_658_14.png': np.array([[9.96270776e-01, 3.72918253e-03]], dtype=np.float32),\n",
            "'Dis_Y_922_1.png': np.array([[9.38906312e-01, 6.10936321e-02]], dtype=np.float32),\n",
            "'Non_N_255_27.png': np.array([[7.88974930e-09, 1.00000000e+00]], dtype=np.float32),\n",
            "'Non_N_265_21.png': np.array([[6.48520887e-03, 9.93514776e-01]], dtype=np.float32),\n",
            "'Non_N_285_21.png': np.array([[4.35118824e-01, 5.64881146e-01]], dtype=np.float32),\n",
            "'Non_N_265_18.png': np.array([[9.34799971e-08, 9.99999881e-01]], dtype=np.float32),\n",
            "'Dis_Y_889_30.png': np.array([[9.81452525e-01, 1.85475238e-02]], dtype=np.float32),\n",
            "'Dis_Y_874_3.png': np.array([[7.33548939e-01, 2.66451061e-01]], dtype=np.float32),\n",
            "'Dis_N_285_1.png': np.array([[7.15667367e-01, 2.84332603e-01]], dtype=np.float32),\n",
            "'Dis_Y_434_17.png': np.array([[8.79848897e-01, 1.20151088e-01]], dtype=np.float32),\n",
            "'Non_N_259_9.png': np.array([[1.89310443e-02, 9.81069028e-01]], dtype=np.float32),\n",
            "'Non_N_257_21.png': np.array([[8.25821143e-03, 9.91741776e-01]], dtype=np.float32),\n",
            "'Non_Y_448_20.png': np.array([[1.00225016e-01, 8.99775028e-01]], dtype=np.float32),\n",
            "'Dis_N_276_22.png': np.array([[3.27592969e-01, 6.72407031e-01]], dtype=np.float32),\n",
            "'Non_Y_428_3.png': np.array([[1.56883216e-05, 9.99984264e-01]], dtype=np.float32),\n",
            "'Non_Y_922_6.png': np.array([[7.08073795e-01, 2.91926265e-01]], dtype=np.float32),\n",
            "'Non_N_265_27.png': np.array([[1.31802365e-01, 8.68197620e-01]], dtype=np.float32),\n",
            "'Non_N_265_25.png': np.array([[4.39667696e-04, 9.99560297e-01]], dtype=np.float32),\n",
            "'Non_Y_938_3.png': np.array([[7.73114909e-04, 9.99226928e-01]], dtype=np.float32),\n",
            "'Dis_N_285_12.png': np.array([[7.74837255e-01, 2.25162789e-01]], dtype=np.float32),\n",
            "'Non_Y_440_12.png': np.array([[1.47868944e-02, 9.85213101e-01]], dtype=np.float32),\n",
            "'Non_Y_351_20.png': np.array([[5.22994778e-05, 9.99947667e-01]], dtype=np.float32),\n",
            "'Non_Y_428_6.png': np.array([[5.09544188e-05, 9.99949098e-01]], dtype=np.float32),\n",
            "'Non_N_257_4.png': np.array([[9.86231398e-03, 9.90137696e-01]], dtype=np.float32),\n",
            "'Dis_Y_877_11.png': np.array([[9.93350208e-01, 6.64979406e-03]], dtype=np.float32),\n",
            "'Dis_Y_448_1.png': np.array([[6.19983435e-01, 3.80016506e-01]], dtype=np.float32),\n",
            "'Dis_N_624_6.png': np.array([[9.96119618e-01, 3.88045865e-03]], dtype=np.float32),\n",
            "'Non_N_259_21.png': np.array([[8.21520662e-05, 9.99917865e-01]], dtype=np.float32),\n",
            "'Non_N_257_5.png': np.array([[1.01356054e-05, 9.99989867e-01]], dtype=np.float32),\n",
            "'Non_N_276_19.png': np.array([[5.96513003e-02, 9.40348685e-01]], dtype=np.float32),\n",
            "'Dis_N_624_17.png': np.array([[9.79477406e-01, 2.05226131e-02]], dtype=np.float32),\n",
            "'Dis_N_627_10.png': np.array([[4.88952756e-01, 5.11047184e-01]], dtype=np.float32),\n",
            "'Dis_N_285_24.png': np.array([[9.98004615e-01, 1.99540379e-03]], dtype=np.float32),\n",
            "'Non_N_257_12.png': np.array([[7.88598409e-10, 1.00000000e+00]], dtype=np.float32),\n",
            "'Non_N_259_17.png': np.array([[1.18850231e-01, 8.81149828e-01]], dtype=np.float32),\n",
            "'Non_Y_351_9.png': np.array([[2.07081484e-06, 9.99997973e-01]], dtype=np.float32),\n",
            "'Non_N_257_7.png': np.array([[5.24611026e-03, 9.94753838e-01]], dtype=np.float32),\n",
            "'Non_Y_428_18.png': np.array([[6.04569621e-04, 9.99395370e-01]], dtype=np.float32),\n",
            "'Dis_Y_440_17.png': np.array([[5.96106231e-01, 4.03893739e-01]], dtype=np.float32),\n",
            "'Non_N_285_9.png': np.array([[1.98836264e-04, 9.99801219e-01]], dtype=np.float32),\n",
            "'Non_N_294_22.png': np.array([[3.33078182e-03, 9.96669233e-01]], dtype=np.float32),\n",
            "'Non_N_294_1.png': np.array([[8.89399927e-03, 9.91105974e-01]], dtype=np.float32),\n",
            "'Dis_N_640_17.png': np.array([[6.25086844e-01, 3.74913186e-01]], dtype=np.float32),\n",
            "'Dis_Y_889_29.png': np.array([[9.99943852e-01, 5.61265442e-05]], dtype=np.float32),\n",
            "'Dis_N_257_23.png': np.array([[5.85739195e-01, 4.14260834e-01]], dtype=np.float32),\n",
            "'Non_N_294_15.png': np.array([[2.32941154e-02, 9.76705849e-01]], dtype=np.float32),\n",
            "'Dis_N_255_23.png': np.array([[9.84472692e-01, 1.55273490e-02]], dtype=np.float32),\n",
            "'Non_N_259_14.png': np.array([[9.64929163e-01, 3.50708179e-02]], dtype=np.float32),\n",
            "'Non_Y_428_13.png': np.array([[5.58952752e-06, 9.99994397e-01]], dtype=np.float32),\n",
            "'Dis_N_640_5.png': np.array([[3.58788580e-01, 6.41211450e-01]], dtype=np.float32),\n",
            "'Non_N_276_25.png': np.array([[1.15004641e-05, 9.99988556e-01]], dtype=np.float32),\n",
            "'Non_Y_440_16.png': np.array([[2.90991720e-05, 9.99970913e-01]], dtype=np.float32),\n",
            "'Non_Y_434_7.png': np.array([[3.91692221e-01, 6.08307779e-01]], dtype=np.float32),\n",
            "'Non_N_285_14.png': np.array([[8.20557844e-08, 9.99999881e-01]], dtype=np.float32),\n",
            "'Non_Y_351_7.png': np.array([[2.54570942e-09, 1.00000000e+00]], dtype=np.float32),\n",
            "'Dis_N_640_1.png': np.array([[9.59219754e-01, 4.07802239e-02]], dtype=np.float32),\n",
            "'Dis_Y_938_5.png': np.array([[8.02935839e-01, 1.97064102e-01]], dtype=np.float32),\n",
            "'Dis_N_627_13.png': np.array([[9.91878033e-01, 8.12192168e-03]], dtype=np.float32),\n",
            "'Non_Y_440_15.png': np.array([[3.60300677e-04, 9.99639630e-01]], dtype=np.float32),\n",
            "'Non_Y_938_4.png': np.array([[4.31104153e-02, 9.56889570e-01]], dtype=np.float32),\n",
            "'Dis_Y_877_13.png': np.array([[4.23466414e-01, 5.76533556e-01]], dtype=np.float32),\n",
            "'Non_Y_360_25.png': np.array([[1.80810343e-06, 9.99998212e-01]], dtype=np.float32),\n",
            "'Dis_N_624_15.png': np.array([[1.89041808e-01, 8.10958147e-01]], dtype=np.float32),\n",
            "'Non_Y_351_21.png': np.array([[2.84101099e-01, 7.15898931e-01]], dtype=np.float32),\n",
            "'Dis_Y_889_5.png': np.array([[9.99914765e-01, 8.52824742e-05]], dtype=np.float32),\n",
            "'Non_Y_876_8.png': np.array([[9.96991277e-01, 3.00865504e-03]], dtype=np.float32),\n",
            "'Dis_Y_440_18.png': np.array([[8.76727819e-01, 1.23272188e-01]], dtype=np.float32),\n",
            "'Dis_Y_448_11.png': np.array([[9.91308391e-01, 8.69164616e-03]], dtype=np.float32),\n",
            "'Non_N_265_1.png': np.array([[4.56255853e-01, 5.43744087e-01]], dtype=np.float32),\n",
            "'Non_N_265_3.png': np.array([[7.29449326e-03, 9.92705524e-01]], dtype=np.float32),\n",
            "'Dis_N_627_8.png': np.array([[9.15192723e-01, 8.48073065e-02]], dtype=np.float32),\n",
            "'Non_Y_434_10.png': np.array([[1.97650380e-02, 9.80234981e-01]], dtype=np.float32),\n",
            "'Dis_Y_428_20.png': np.array([[6.78696871e-01, 3.21303099e-01]], dtype=np.float32),\n",
            "'Non_Y_448_23.png': np.array([[6.30328894e-01, 3.69671106e-01]], dtype=np.float32),\n",
            "'Non_N_265_10.png': np.array([[6.11138523e-01, 3.88861448e-01]], dtype=np.float32),\n",
            "'Dis_Y_428_7.png': np.array([[9.52102423e-01, 4.78975140e-02]], dtype=np.float32),\n",
            "'Non_Y_434_3.png': np.array([[3.45979991e-08, 1.00000000e+00]], dtype=np.float32),\n",
            "'Dis_Y_938_2.png': np.array([[8.58618319e-01, 1.41381711e-01]], dtype=np.float32),\n",
            "'Non_N_285_8.png': np.array([[1.10312305e-06, 9.99998927e-01]], dtype=np.float32),\n",
            "'Dis_Y_876_14.png': np.array([[9.97264385e-01, 2.73562269e-03]], dtype=np.float32),\n",
            "'Dis_Y_874_10.png': np.array([[2.06815153e-01, 7.93184876e-01]], dtype=np.float32),\n",
            "'Dis_N_624_7.png': np.array([[9.88669574e-01, 1.13304397e-02]], dtype=np.float32),\n",
            "'Non_N_257_18.png': np.array([[3.54291406e-03, 9.96457040e-01]], dtype=np.float32),\n",
            "'Non_N_265_23.png': np.array([[2.04860628e-01, 7.95139372e-01]], dtype=np.float32),\n",
            "'Dis_Y_351_19.png': np.array([[9.98533130e-01, 1.46685296e-03]], dtype=np.float32),\n",
            "'Dis_Y_874_11.png': np.array([[5.65708816e-01, 4.34291184e-01]], dtype=np.float32),\n",
            "'Non_N_255_14.png': np.array([[4.95958000e-01, 5.04041970e-01]], dtype=np.float32),\n",
            "'Dis_Y_889_8.png': np.array([[7.50867009e-01, 2.49133006e-01]], dtype=np.float32),\n",
            "'Dis_N_640_12.png': np.array([[9.97178912e-01, 2.82113440e-03]], dtype=np.float32),\n",
            "'Non_N_294_5.png': np.array([[3.48541944e-04, 9.99651432e-01]], dtype=np.float32),\n",
            "'Dis_Y_360_5.png': np.array([[5.40519357e-01, 4.59480643e-01]], dtype=np.float32),\n",
            "'Non_Y_440_21.png': np.array([[9.55450013e-02, 9.04455066e-01]], dtype=np.float32),\n",
            "'Non_Y_877_10.png': np.array([[9.06681180e-01, 9.33188498e-02]], dtype=np.float32),\n",
            "'Dis_Y_428_22.png': np.array([[6.99147165e-01, 3.00852835e-01]], dtype=np.float32),\n",
            "'Dis_N_285_4.png': np.array([[9.96621609e-01, 3.37834726e-03]], dtype=np.float32),\n",
            "'Dis_N_285_20.png': np.array([[8.42383146e-01, 1.57616898e-01]], dtype=np.float32),\n",
            "'Non_Y_434_14.png': np.array([[2.98707106e-04, 9.99701321e-01]], dtype=np.float32),\n",
            "'Dis_Y_876_3.png': np.array([[9.99984622e-01, 1.53926376e-05]], dtype=np.float32),\n",
            "'Non_N_257_16.png': np.array([[1.74218684e-08, 1.00000000e+00]], dtype=np.float32),\n",
            "'Non_Y_360_8.png': np.array([[1.88810140e-01, 8.11189830e-01]], dtype=np.float32),\n",
            "'Dis_N_259_12.png': np.array([[9.65013087e-01, 3.49869020e-02]], dtype=np.float32),\n",
            "'Non_N_276_14.png': np.array([[2.12695271e-01, 7.87304699e-01]], dtype=np.float32),\n",
            "'Dis_Y_922_8.png': np.array([[9.96944726e-01, 3.05523165e-03]], dtype=np.float32),\n",
            "'Non_Y_360_12.png': np.array([[2.66729295e-03, 9.97332692e-01]], dtype=np.float32),\n",
            "'Non_N_294_10.png': np.array([[4.31554019e-03, 9.95684505e-01]], dtype=np.float32),\n",
            "'Dis_N_627_3.png': np.array([[4.70889546e-02, 9.52911019e-01]], dtype=np.float32),\n",
            "'Non_Y_434_22.png': np.array([[2.78394431e-01, 7.21605599e-01]], dtype=np.float32),\n",
            "'Dis_Y_360_2.png': np.array([[8.89709175e-01, 1.10290833e-01]], dtype=np.float32),\n",
            "'Dis_Y_876_9.png': np.array([[8.84601772e-01, 1.15398251e-01]], dtype=np.float32),\n",
            "'Dis_N_624_19.png': np.array([[5.61623648e-02, 9.43837643e-01]], dtype=np.float32),\n",
            "'Dis_Y_448_9.png': np.array([[6.10125244e-01, 3.89874756e-01]], dtype=np.float32),\n",
            "'Non_N_257_14.png': np.array([[1.37596503e-01, 8.62403452e-01]], dtype=np.float32),\n",
            "'Non_N_255_2.png': np.array([[1.26414020e-02, 9.87358630e-01]], dtype=np.float32),\n",
            "'Non_Y_440_7.png': np.array([[2.59959525e-05, 9.99974012e-01]], dtype=np.float32),\n",
            "'Dis_Y_434_1.png': np.array([[6.76610470e-01, 3.23389500e-01]], dtype=np.float32),\n",
            "'Dis_Y_889_15.png': np.array([[9.99923348e-01, 7.66049488e-05]], dtype=np.float32),\n",
            "'Dis_N_265_24.png': np.array([[9.99878645e-01, 1.21323268e-04]], dtype=np.float32),\n",
            "'Non_Y_360_13.png': np.array([[8.94566551e-02, 9.10543323e-01]], dtype=np.float32),\n",
            "'Dis_Y_874_13.png': np.array([[1.66484097e-03, 9.98335183e-01]], dtype=np.float32),\n",
            "'Non_Y_351_1.png': np.array([[3.12021542e-02, 9.68797803e-01]], dtype=np.float32),\n",
            "'Dis_N_257_1.png': np.array([[8.83352518e-01, 1.16647497e-01]], dtype=np.float32),\n",
            "'Non_N_257_25.png': np.array([[1.24393292e-02, 9.87560689e-01]], dtype=np.float32),\n",
            "'Non_Y_440_10.png': np.array([[1.70019090e-01, 8.29980910e-01]], dtype=np.float32),\n",
            "'Non_N_294_7.png': np.array([[1.51490727e-02, 9.84850943e-01]], dtype=np.float32),\n",
            "'Non_Y_877_3.png': np.array([[4.37600046e-01, 5.62399924e-01]], dtype=np.float32),\n",
            "'Dis_N_285_6.png': np.array([[7.12246671e-02, 9.28775370e-01]], dtype=np.float32),\n",
            "'Non_N_259_19.png': np.array([[2.82177180e-01, 7.17822790e-01]], dtype=np.float32),\n",
            "'Dis_N_257_9.png': np.array([[9.98315811e-01, 1.68424018e-03]], dtype=np.float32),\n",
            "'Non_N_276_23.png': np.array([[1.07551887e-06, 9.99998927e-01]], dtype=np.float32),\n",
            "'Non_N_294_16.png': np.array([[1.40314708e-02, 9.85968471e-01]], dtype=np.float32),\n",
            "'Non_N_285_2.png': np.array([[7.98220839e-03, 9.92017865e-01]], dtype=np.float32),\n",
            "'Non_Y_434_24.png': np.array([[3.10983523e-06, 9.99996901e-01]], dtype=np.float32),\n",
            "'Non_N_257_19.png': np.array([[1.59904137e-01, 8.40095937e-01]], dtype=np.float32),\n",
            "'Dis_Y_874_14.png': np.array([[1.97446078e-01, 8.02553892e-01]], dtype=np.float32),\n",
            "'Dis_Y_876_4.png': np.array([[9.95246112e-01, 4.75394120e-03]], dtype=np.float32),\n",
            "'Dis_Y_877_14.png': np.array([[6.61934137e-01, 3.38065892e-01]], dtype=np.float32),\n",
            "'Dis_N_627_14.png': np.array([[9.99688506e-01, 3.11493932e-04]], dtype=np.float32),\n",
            "'Dis_Y_889_32.png': np.array([[9.99994397e-01, 5.61516254e-06]], dtype=np.float32),\n",
            "'Non_Y_428_16.png': np.array([[2.41770992e-10, 1.00000000e+00]], dtype=np.float32),\n",
            "'Dis_N_276_5.png': np.array([[9.20251012e-01, 7.97489509e-02]], dtype=np.float32),\n",
            "'Dis_N_255_11.png': np.array([[1.60634355e-03, 9.98393595e-01]], dtype=np.float32),\n",
            "'Dis_Y_440_13.png': np.array([[9.94761407e-01, 5.23860054e-03]], dtype=np.float32),\n",
            "'Non_Y_440_14.png': np.array([[1.87087566e-01, 8.12912405e-01]], dtype=np.float32),\n",
            "'Dis_N_294_9.png': np.array([[8.78113151e-01, 1.21886849e-01]], dtype=np.float32),\n",
            "'Dis_Y_434_23.png': np.array([[9.98809814e-01, 1.19015656e-03]], dtype=np.float32),\n",
            "'Non_N_255_31.png': np.array([[1.79753566e-04, 9.99820292e-01]], dtype=np.float32),\n",
            "'Dis_Y_874_15.png': np.array([[1.33919135e-01, 8.66080880e-01]], dtype=np.float32),\n",
            "'Dis_N_640_8.png': np.array([[9.74881113e-01, 2.51188800e-02]], dtype=np.float32),\n",
            "'Dis_N_640_15.png': np.array([[6.49855137e-01, 3.50144833e-01]], dtype=np.float32),\n",
            "'Dis_N_265_9.png': np.array([[9.42449987e-01, 5.75500205e-02]], dtype=np.float32),\n",
            "'Dis_N_658_17.png': np.array([[9.96391237e-01, 3.60873109e-03]], dtype=np.float32),\n",
            "'Non_N_257_8.png': np.array([[7.97126777e-05, 9.99920249e-01]], dtype=np.float32),\n",
            "'Non_Y_440_4.png': np.array([[1.45847619e-01, 8.54152322e-01]], dtype=np.float32),\n",
            "'Dis_Y_440_24.png': np.array([[9.61324751e-01, 3.86752896e-02]], dtype=np.float32),\n",
            "'Dis_N_276_8.png': np.array([[1.89339175e-04, 9.99810636e-01]], dtype=np.float32),\n",
            "'Non_Y_428_23.png': np.array([[9.06251535e-06, 9.99990940e-01]], dtype=np.float32),\n",
            "'Non_Y_434_13.png': np.array([[4.37713697e-06, 9.99995589e-01]], dtype=np.float32),\n",
            "'Non_Y_448_25.png': np.array([[1.00983381e-01, 8.99016619e-01]], dtype=np.float32),\n",
            "'Dis_N_255_21.png': np.array([[4.02314305e-01, 5.97685695e-01]], dtype=np.float32),\n",
            "'Non_N_257_22.png': np.array([[6.12791882e-06, 9.99993920e-01]], dtype=np.float32),\n",
            "'Non_Y_448_4.png': np.array([[2.23636434e-07, 9.99999762e-01]], dtype=np.float32),\n",
            "'Dis_N_294_8.png': np.array([[2.36049369e-02, 9.76395011e-01]], dtype=np.float32),\n",
            "'Non_Y_351_11.png': np.array([[3.36376752e-06, 9.99996662e-01]], dtype=np.float32),\n",
            "'Dis_N_255_29.png': np.array([[9.99997258e-01, 2.77766117e-06]], dtype=np.float32),\n",
            "'Dis_N_285_19.png': np.array([[2.30838973e-02, 9.76916134e-01]], dtype=np.float32),\n",
            "'Non_N_294_21.png': np.array([[9.67481756e-05, 9.99903202e-01]], dtype=np.float32),\n",
            "'Dis_Y_889_26.png': np.array([[9.94881630e-01, 5.11834584e-03]], dtype=np.float32),\n",
            "'Non_N_265_17.png': np.array([[3.22739929e-02, 9.67725992e-01]], dtype=np.float32),\n",
            "'Non_N_259_22.png': np.array([[1.12584821e-04, 9.99887347e-01]], dtype=np.float32),\n",
            "'Non_N_255_30.png': np.array([[3.71069238e-02, 9.62893069e-01]], dtype=np.float32),\n",
            "'Dis_Y_876_12.png': np.array([[8.38013709e-01, 1.61986232e-01]], dtype=np.float32),\n",
            "'Dis_N_259_6.png': np.array([[9.90797997e-01, 9.20205936e-03]], dtype=np.float32),\n",
            "'Dis_N_658_8.png': np.array([[9.99963641e-01, 3.63593790e-05]], dtype=np.float32),\n",
            "'Dis_Y_351_23.png': np.array([[5.33244729e-01, 4.66755241e-01]], dtype=np.float32),\n",
            "'Dis_N_259_23.png': np.array([[5.74164391e-01, 4.25835580e-01]], dtype=np.float32),\n",
            "'Non_Y_360_19.png': np.array([[1.35594174e-01, 8.64405811e-01]], dtype=np.float32),\n",
            "'Non_Y_360_24.png': np.array([[5.30888559e-03, 9.94691074e-01]], dtype=np.float32),\n",
            "'Dis_Y_448_3.png': np.array([[9.44022611e-02, 9.05597746e-01]], dtype=np.float32),\n",
            "'Dis_N_640_16.png': np.array([[8.37577879e-01, 1.62422091e-01]], dtype=np.float32),\n",
            "'Dis_N_276_3.png': np.array([[2.30577320e-01, 7.69422710e-01]], dtype=np.float32),\n",
            "'Non_N_285_22.png': np.array([[1.84526853e-02, 9.81547356e-01]], dtype=np.float32),\n",
            "'Dis_Y_874_5.png': np.array([[1.52759537e-01, 8.47240448e-01]], dtype=np.float32),\n",
            "'Dis_Y_877_9.png': np.array([[9.82583463e-01, 1.74165163e-02]], dtype=np.float32),\n",
            "'Dis_N_640_10.png': np.array([[9.65366125e-01, 3.46338861e-02]], dtype=np.float32),\n",
            "'Non_N_276_24.png': np.array([[1.14077292e-02, 9.88592327e-01]], dtype=np.float32),\n",
            "'Non_Y_938_8.png': np.array([[3.90678421e-02, 9.60932136e-01]], dtype=np.float32),\n",
            "'Dis_Y_874_12.png': np.array([[6.23758078e-01, 3.76241893e-01]], dtype=np.float32),\n",
            "'Dis_Y_889_19.png': np.array([[7.89906800e-01, 2.10093230e-01]], dtype=np.float32),\n",
            "'Non_N_276_27.png': np.array([[8.92785579e-08, 9.99999881e-01]], dtype=np.float32),\n",
            "'Dis_Y_351_12.png': np.array([[9.99454081e-01, 5.45893330e-04]], dtype=np.float32),\n",
            "'Non_N_259_10.png': np.array([[2.39487678e-01, 7.60512352e-01]], dtype=np.float32),\n",
            "'Dis_Y_351_25.png': np.array([[9.98009622e-01, 1.99042121e-03]], dtype=np.float32),\n",
            "'Non_N_285_23.png': np.array([[3.21954638e-01, 6.78045332e-01]], dtype=np.float32),\n",
            "'Dis_Y_889_2.png': np.array([[9.95045424e-01, 4.95459419e-03]], dtype=np.float32),\n",
            "'Dis_Y_889_3.png': np.array([[9.99980927e-01, 1.90152405e-05]], dtype=np.float32),\n",
            "'Non_Y_428_5.png': np.array([[1.03855207e-04, 9.99896169e-01]], dtype=np.float32),\n",
            "'Non_Y_938_10.png': np.array([[2.93211818e-01, 7.06788182e-01]], dtype=np.float32),\n",
            "'Non_Y_434_25.png': np.array([[1.19933166e-01, 8.80066872e-01]], dtype=np.float32),\n",
            "'Dis_N_255_19.png': np.array([[9.79487360e-01, 2.05126069e-02]], dtype=np.float32),\n",
            "'Dis_N_627_16.png': np.array([[9.99979377e-01, 2.05897013e-05]], dtype=np.float32),\n",
            "'Dis_N_658_16.png': np.array([[7.52238989e-01, 2.47761071e-01]], dtype=np.float32),\n",
            "'Non_N_285_10.png': np.array([[2.54309361e-06, 9.99997497e-01]], dtype=np.float32),\n",
            "'Dis_N_257_11.png': np.array([[9.87889469e-01, 1.21105015e-02]], dtype=np.float32),\n",
            "'Dis_Y_889_11.png': np.array([[9.07197058e-01, 9.28029269e-02]], dtype=np.float32),\n",
            "'Dis_Y_889_20.png': np.array([[8.99784029e-01, 1.00215979e-01]], dtype=np.float32),\n",
            "'Non_N_257_17.png': np.array([[1.38851639e-04, 9.99861121e-01]], dtype=np.float32),\n",
            "'Non_N_294_18.png': np.array([[2.78472115e-04, 9.99721467e-01]], dtype=np.float32),\n",
            "'Non_N_265_15.png': np.array([[2.92276949e-01, 7.07723022e-01]], dtype=np.float32),\n",
            "'Non_Y_877_6.png': np.array([[4.32669133e-01, 5.67330897e-01]], dtype=np.float32),\n",
            "'Dis_N_276_6.png': np.array([[1.50424102e-03, 9.98495817e-01]], dtype=np.float32),\n",
            "'Non_Y_448_12.png': np.array([[9.21781805e-07, 9.99999046e-01]], dtype=np.float32),\n",
            "'Non_Y_448_10.png': np.array([[9.32139345e-03, 9.90678608e-01]], dtype=np.float32),\n",
            "'Non_N_255_15.png': np.array([[1.31463514e-12, 1.00000000e+00]], dtype=np.float32),\n",
            "'Non_N_285_13.png': np.array([[7.66829401e-02, 9.23317075e-01]], dtype=np.float32),\n",
            "'Non_Y_351_24.png': np.array([[8.65009248e-01, 1.34990782e-01]], dtype=np.float32),\n",
            "'Non_N_265_20.png': np.array([[3.07829157e-02, 9.69217122e-01]], dtype=np.float32),\n",
            "'Dis_Y_889_35.png': np.array([[9.67159331e-01, 3.28407288e-02]], dtype=np.float32),\n",
            "'Dis_Y_889_37.png': np.array([[2.77859956e-01, 7.22140074e-01]], dtype=np.float32),\n",
            "'Non_Y_360_3.png': np.array([[3.29929411e-01, 6.70070589e-01]], dtype=np.float32),\n",
            "'Dis_N_624_2.png': np.array([[1.83955669e-01, 8.16044390e-01]], dtype=np.float32),\n",
            "'Non_N_259_18.png': np.array([[7.28600025e-02, 9.27139997e-01]], dtype=np.float32),\n",
            "'Dis_N_658_11.png': np.array([[9.62448061e-01, 3.75519209e-02]], dtype=np.float32),\n",
            "'Dis_N_257_10.png': np.array([[7.81188548e-01, 2.18811452e-01]], dtype=np.float32),\n",
            "'Non_Y_434_19.png': np.array([[9.43072915e-01, 5.69271259e-02]], dtype=np.float32),\n",
            "'Non_N_255_8.png': np.array([[1.33705009e-02, 9.86629486e-01]], dtype=np.float32),\n",
            "'Dis_Y_889_1.png': np.array([[9.26125824e-01, 7.38741308e-02]], dtype=np.float32),\n",
            "'Non_Y_448_17.png': np.array([[4.33639434e-06, 9.99995708e-01]], dtype=np.float32),\n",
            "'Non_Y_448_19.png': np.array([[1.43453826e-06, 9.99998569e-01]], dtype=np.float32),\n",
            "'Dis_Y_440_2.png': np.array([[9.99864340e-01, 1.35585142e-04]], dtype=np.float32),\n",
            "'Non_N_285_18.png': np.array([[5.26021374e-03, 9.94739830e-01]], dtype=np.float32),\n",
            "'Non_Y_434_16.png': np.array([[1.49278503e-06, 9.99998450e-01]], dtype=np.float32),\n",
            "'Dis_N_624_11.png': np.array([[1.69192225e-01, 8.30807805e-01]], dtype=np.float32),\n",
            "'Non_Y_440_22.png': np.array([[4.38041054e-03, 9.95619595e-01]], dtype=np.float32),\n",
            "'Dis_Y_351_10.png': np.array([[9.93414283e-01, 6.58569252e-03]], dtype=np.float32),\n",
            "'Non_Y_448_27.png': np.array([[8.20627749e-01, 1.79372236e-01]], dtype=np.float32),\n",
            "'Dis_Y_440_9.png': np.array([[9.36910450e-01, 6.30896017e-02]], dtype=np.float32),\n",
            "'Non_Y_428_10.png': np.array([[4.94801861e-06, 9.99994993e-01]], dtype=np.float32),\n",
            "'Non_N_294_13.png': np.array([[5.01071243e-03, 9.94989216e-01]], dtype=np.float32),\n",
            "'Dis_N_294_11.png': np.array([[9.99404311e-01, 5.95655350e-04]], dtype=np.float32),\n",
            "'Non_N_265_7.png': np.array([[1.38839584e-09, 1.00000000e+00]], dtype=np.float32),\n",
            "'Dis_Y_889_22.png': np.array([[5.51849365e-01, 4.48150665e-01]], dtype=np.float32),\n",
            "'Non_Y_360_16.png': np.array([[2.38578767e-04, 9.99761403e-01]], dtype=np.float32),\n",
            "'Non_Y_877_7.png': np.array([[1.69398617e-02, 9.83060062e-01]], dtype=np.float32),\n",
            "'Non_N_265_12.png': np.array([[7.55821764e-01, 2.44178236e-01]], dtype=np.float32),\n",
            "'Dis_N_624_13.png': np.array([[6.15160406e-01, 3.84839624e-01]], dtype=np.float32),\n",
            "'Dis_N_294_20.png': np.array([[9.95127320e-01, 4.87264432e-03]], dtype=np.float32),\n",
            "'Non_N_276_16.png': np.array([[1.57431161e-04, 9.99842525e-01]], dtype=np.float32),\n",
            "'Dis_N_294_23.png': np.array([[1.92698871e-03, 9.98072982e-01]], dtype=np.float32),\n",
            "'Dis_Y_360_1.png': np.array([[4.93054926e-01, 5.06945014e-01]], dtype=np.float32),\n",
            "'Dis_N_627_7.png': np.array([[9.65972543e-01, 3.40274684e-02]], dtype=np.float32),\n",
            "'Non_Y_440_8.png': np.array([[1.73054088e-03, 9.98269439e-01]], dtype=np.float32),\n",
            "'Dis_Y_876_16.png': np.array([[9.99993086e-01, 6.96812185e-06]], dtype=np.float32),\n",
            "'Non_N_259_11.png': np.array([[4.06047138e-06, 9.99995947e-01]], dtype=np.float32),\n",
            "'Dis_N_255_7.png': np.array([[1.00219682e-01, 8.99780333e-01]], dtype=np.float32),\n",
            "'Dis_Y_889_36.png': np.array([[5.87487876e-01, 4.12512153e-01]], dtype=np.float32),\n",
            "'Non_Y_428_12.png': np.array([[1.83691748e-03, 9.98163044e-01]], dtype=np.float32),\n",
            "'Non_Y_440_11.png': np.array([[1.04276389e-02, 9.89572346e-01]], dtype=np.float32),\n",
            "'Dis_Y_922_2.png': np.array([[9.98657703e-01, 1.34224794e-03]], dtype=np.float32),\n",
            "'Non_N_265_6.png': np.array([[4.38546384e-04, 9.99561489e-01]], dtype=np.float32),\n",
            "'Dis_N_624_4.png': np.array([[4.95995441e-03, 9.95039999e-01]], dtype=np.float32),\n",
            "'Dis_Y_428_1.png': np.array([[6.04533374e-01, 3.95466566e-01]], dtype=np.float32),\n",
            "'Dis_N_285_25.png': np.array([[2.70833194e-01, 7.29166746e-01]], dtype=np.float32),\n",
            "'Non_Y_448_2.png': np.array([[1.42310233e-10, 1.00000000e+00]], dtype=np.float32),\n",
            "'Non_N_255_20.png': np.array([[7.38640968e-03, 9.92613554e-01]], dtype=np.float32),\n",
            "'Non_N_265_19.png': np.array([[1.30316330e-04, 9.99869704e-01]], dtype=np.float32),\n",
            "'Non_Y_360_6.png': np.array([[2.43211370e-02, 9.75678861e-01]], dtype=np.float32),\n",
            "'Dis_N_640_3.png': np.array([[9.98489857e-01, 1.51011581e-03]], dtype=np.float32),\n",
            "'Dis_Y_889_27.png': np.array([[9.99485016e-01, 5.14928834e-04]], dtype=np.float32),\n",
            "'Dis_N_257_2.png': np.array([[4.96177897e-02, 9.50382292e-01]], dtype=np.float32),\n",
            "'Non_Y_434_4.png': np.array([[5.51416688e-02, 9.44858313e-01]], dtype=np.float32),\n",
            "'Non_Y_428_14.png': np.array([[5.62455580e-02, 9.43754494e-01]], dtype=np.float32),\n",
            "'Non_N_259_1.png': np.array([[6.17757678e-01, 3.82242322e-01]], dtype=np.float32),\n",
            "'Non_Y_434_9.png': np.array([[2.80516360e-07, 9.99999762e-01]], dtype=np.float32),\n",
            "'Non_Y_922_7.png': np.array([[7.92268276e-01, 2.07731679e-01]], dtype=np.float32),\n",
            "'Non_Y_434_6.png': np.array([[1.17408954e-05, 9.99988317e-01]], dtype=np.float32),\n",
            "'Dis_N_624_8.png': np.array([[3.79475858e-03, 9.96205270e-01]], dtype=np.float32),\n",
            "'Non_Y_428_9.png': np.array([[4.94626420e-07, 9.99999523e-01]], dtype=np.float32),\n",
            "'Dis_N_276_11.png': np.array([[9.99977589e-01, 2.23979405e-05]], dtype=np.float32),\n",
            "'Dis_N_640_2.png': np.array([[9.97009516e-01, 2.99042091e-03]], dtype=np.float32),\n",
            "'Dis_N_276_15.png': np.array([[9.35788155e-01, 6.42118081e-02]], dtype=np.float32),\n",
            "'Non_Y_428_8.png': np.array([[1.89517036e-01, 8.10482979e-01]], dtype=np.float32),\n",
            "'Dis_N_658_1.png': np.array([[5.71154654e-01, 4.28845286e-01]], dtype=np.float32),\n",
            "'Dis_N_259_4.png': np.array([[9.11953986e-01, 8.80459771e-02]], dtype=np.float32),\n",
            "'Non_N_265_16.png': np.array([[3.93956225e-06, 9.99996066e-01]], dtype=np.float32),\n",
            "'Dis_Y_428_17.png': np.array([[3.87378246e-01, 6.12621784e-01]], dtype=np.float32),\n",
            "'Non_Y_434_12.png': np.array([[7.18809664e-04, 9.99281228e-01]], dtype=np.float32),\n",
            "'Non_N_257_6.png': np.array([[2.04386083e-06, 9.99997973e-01]], dtype=np.float32),\n",
            "'Dis_N_658_6.png': np.array([[9.90449011e-01, 9.55101475e-03]], dtype=np.float32),\n",
            "'Non_Y_428_2.png': np.array([[9.42921191e-02, 9.05707836e-01]], dtype=np.float32),\n",
            "'Non_N_255_24.png': np.array([[5.13746850e-02, 9.48625267e-01]], dtype=np.float32),\n",
            "'Non_Y_448_21.png': np.array([[1.80682121e-03, 9.98193204e-01]], dtype=np.float32),\n",
            "'Non_Y_428_15.png': np.array([[9.06636899e-09, 1.00000000e+00]], dtype=np.float32),\n",
            "'Non_N_257_13.png': np.array([[2.27974057e-01, 7.72025883e-01]], dtype=np.float32),\n",
            "'Non_Y_876_6.png': np.array([[9.24265504e-01, 7.57344365e-02]], dtype=np.float32),\n",
            "'Non_Y_448_24.png': np.array([[3.46093588e-02, 9.65390682e-01]], dtype=np.float32),\n",
            "'Dis_Y_876_15.png': np.array([[9.99185622e-01, 8.14394269e-04]], dtype=np.float32),\n",
            "'Dis_N_265_22.png': np.array([[9.99396205e-01, 6.03765424e-04]], dtype=np.float32),\n",
            "'Dis_Y_360_20.png': np.array([[9.72931743e-01, 2.70682182e-02]], dtype=np.float32),\n",
            "'Dis_Y_448_22.png': np.array([[6.40180051e-01, 3.59819919e-01]], dtype=np.float32),\n",
            "'Non_Y_428_19.png': np.array([[4.03913000e-05, 9.99959588e-01]], dtype=np.float32),\n",
            "'Non_Y_440_23.png': np.array([[4.06643897e-01, 5.93356073e-01]], dtype=np.float32),\n",
            "'Dis_N_276_13.png': np.array([[9.81845498e-01, 1.81545168e-02]], dtype=np.float32),\n",
            "'Dis_N_658_19.png': np.array([[9.99920011e-01, 7.99625413e-05]], dtype=np.float32),\n",
            "'Dis_N_259_16.png': np.array([[9.99437988e-01, 5.61976922e-04]], dtype=np.float32),\n",
            "'Dis_Y_360_7.png': np.array([[9.99954104e-01, 4.59452058e-05]], dtype=np.float32),\n",
            "'Dis_Y_434_21.png': np.array([[9.96846616e-01, 3.15339048e-03]], dtype=np.float32),\n",
            "'Non_Y_351_4.png': np.array([[8.05914567e-07, 9.99999166e-01]], dtype=np.float32),\n",
            "'Non_Y_876_1.png': np.array([[1.80409938e-01, 8.19590092e-01]], dtype=np.float32),\n",
            "'Non_Y_922_3.png': np.array([[7.00586498e-01, 2.99413472e-01]], dtype=np.float32),\n",
            "'Non_Y_360_21.png': np.array([[2.73377045e-05, 9.99972701e-01]], dtype=np.float32),\n",
            "'Dis_N_658_2.png': np.array([[9.04861569e-01, 9.51383784e-02]], dtype=np.float32),\n",
            "'Dis_N_255_1.png': np.array([[9.14008260e-01, 8.59917030e-02]], dtype=np.float32),\n",
            "'Dis_Y_889_24.png': np.array([[9.98679459e-01, 1.32049900e-03]], dtype=np.float32),\n",
            "'Dis_Y_448_6.png': np.array([[7.52409697e-01, 2.47590318e-01]], dtype=np.float32),\n",
            "'Dis_Y_360_23.png': np.array([[6.58232689e-01, 3.41767371e-01]], dtype=np.float32),\n",
            "'Dis_Y_922_9.png': np.array([[9.73751605e-01, 2.62484532e-02]], dtype=np.float32),\n",
            "'Non_N_255_5.png': np.array([[2.09248641e-09, 1.00000000e+00]], dtype=np.float32),\n",
            "'Dis_N_640_14.png': np.array([[8.72446120e-01, 1.27553865e-01]], dtype=np.float32),\n",
            "'Non_Y_434_15.png': np.array([[1.86382877e-05, 9.99981403e-01]], dtype=np.float32),\n",
            "'Non_Y_351_8.png': np.array([[8.94902099e-04, 9.99105036e-01]], dtype=np.float32),\n",
            "'Non_N_276_9.png': np.array([[1.96537462e-06, 9.99998093e-01]], dtype=np.float32),\n",
            "'Dis_N_640_11.png': np.array([[9.75248158e-01, 2.47518364e-02]], dtype=np.float32),\n",
            "'Dis_N_255_12.png': np.array([[9.99982238e-01, 1.77619622e-05]], dtype=np.float32),\n",
            "'Dis_N_627_4.png': np.array([[1.85727969e-01, 8.14272046e-01]], dtype=np.float32),\n",
            "'Non_Y_360_14.png': np.array([[2.26847023e-01, 7.73153007e-01]], dtype=np.float32),\n",
            "'Non_Y_922_10.png': np.array([[6.24781251e-01, 3.75218749e-01]], dtype=np.float32),\n",
            "'Non_N_259_13.png': np.array([[2.87763536e-01, 7.12236404e-01]], dtype=np.float32),\n",
            "'Non_Y_434_11.png': np.array([[1.15697041e-01, 8.84303033e-01]], dtype=np.float32),\n",
            "'Dis_Y_876_10.png': np.array([[9.99980927e-01, 1.90217706e-05]], dtype=np.float32),\n",
            "'Non_N_276_17.png': np.array([[8.39897338e-14, 1.00000000e+00]], dtype=np.float32),\n",
            "'Non_N_259_20.png': np.array([[6.86775386e-01, 3.13224614e-01]], dtype=np.float32),\n",
            "'Dis_N_658_7.png': np.array([[9.99720871e-01, 2.79114611e-04]], dtype=np.float32),\n",
            "'Dis_Y_889_21.png': np.array([[9.99839783e-01, 1.60137744e-04]], dtype=np.float32),\n",
            "'Dis_N_259_5.png': np.array([[4.30441916e-01, 5.69558084e-01]], dtype=np.float32),\n",
            "'Dis_Y_889_16.png': np.array([[9.77736652e-01, 2.22633183e-02]], dtype=np.float32),\n",
            "'Dis_Y_448_18.png': np.array([[9.52615798e-01, 4.73841727e-02]], dtype=np.float32),\n",
            "'Dis_Y_889_31.png': np.array([[9.99334514e-01, 6.65518979e-04]], dtype=np.float32),\n",
            "'Dis_Y_877_15.png': np.array([[9.99708116e-01, 2.91893346e-04]], dtype=np.float32),\n",
            "'Non_N_285_5.png': np.array([[1.75270281e-06, 9.99998212e-01]], dtype=np.float32),\n",
            "'Non_Y_351_22.png': np.array([[2.85840462e-09, 1.00000000e+00]], dtype=np.float32),\n",
            "'Dis_Y_874_1.png': np.array([[6.37722671e-01, 3.62277269e-01]], dtype=np.float32),\n",
            "'Dis_N_285_11.png': np.array([[8.98521543e-01, 1.01478413e-01]], dtype=np.float32),\n",
            "'Dis_N_265_14.png': np.array([[8.05092037e-01, 1.94907933e-01]], dtype=np.float32),\n",
            "'Non_N_265_26.png': np.array([[1.05830543e-06, 9.99998927e-01]], dtype=np.float32),\n",
            "'Non_N_259_2.png': np.array([[7.48989114e-04, 9.99250948e-01]], dtype=np.float32),\n",
            "'Dis_Y_877_4.png': np.array([[8.78620684e-01, 1.21379368e-01]], dtype=np.float32),\n",
            "'Dis_Y_876_5.png': np.array([[9.73981559e-01, 2.60184053e-02]], dtype=np.float32),\n",
            "'Dis_N_285_3.png': np.array([[9.77800846e-01, 2.21992210e-02]], dtype=np.float32),\n",
            "'Non_N_276_26.png': np.array([[3.19500048e-14, 1.00000000e+00]], dtype=np.float32),\n",
            "'Dis_N_285_17.png': np.array([[9.46650088e-01, 5.33499122e-02]], dtype=np.float32),\n",
            "'Non_Y_448_26.png': np.array([[2.73920270e-03, 9.97260809e-01]], dtype=np.float32),\n",
            "'Non_N_276_20.png': np.array([[2.18523746e-05, 9.99978185e-01]], dtype=np.float32),\n",
            "'Non_Y_360_18.png': np.array([[1.46209793e-02, 9.85378981e-01]], dtype=np.float32),\n",
            "'Dis_N_627_15.png': np.array([[9.98744965e-01, 1.25501037e-03]], dtype=np.float32),\n",
            "'Dis_N_627_11.png': np.array([[2.92247444e-01, 7.07752526e-01]], dtype=np.float32),\n",
            "'Non_N_255_26.png': np.array([[2.44510927e-13, 1.00000000e+00]], dtype=np.float32),\n",
            "'Non_Y_351_18.png': np.array([[4.18743984e-10, 1.00000000e+00]], dtype=np.float32),\n",
            "'Dis_Y_889_14.png': np.array([[9.64197040e-01, 3.58029008e-02]], dtype=np.float32),\n",
            "'Dis_N_627_9.png': np.array([[8.30449581e-01, 1.69550434e-01]], dtype=np.float32),\n",
            "'Non_Y_360_9.png': np.array([[4.16766526e-03, 9.95832384e-01]], dtype=np.float32),\n",
            "'Dis_N_294_24.png': np.array([[8.31972182e-01, 1.68027863e-01]], dtype=np.float32),\n",
            "'Dis_N_658_12.png': np.array([[1.82841551e-02, 9.81715858e-01]], dtype=np.float32),\n",
            "'Dis_Y_434_18.png': np.array([[5.45383155e-01, 4.54616874e-01]], dtype=np.float32),\n",
            "'Dis_Y_440_19.png': np.array([[6.37592375e-01, 3.62407655e-01]], dtype=np.float32),\n",
            "'Dis_N_265_5.png': np.array([[9.95630383e-01, 4.36958065e-03]], dtype=np.float32),\n",
            "'Non_Y_876_7.png': np.array([[7.75403082e-01, 2.24596918e-01]], dtype=np.float32),\n",
            "'Dis_N_294_19.png': np.array([[2.63357431e-01, 7.36642599e-01]], dtype=np.float32),\n",
            "'Dis_N_627_1.png': np.array([[9.99480426e-01, 5.19548950e-04]], dtype=np.float32),\n",
            "'Non_N_294_17.png': np.array([[5.07019907e-02, 9.49298024e-01]], dtype=np.float32),\n",
            "'Dis_Y_874_7.png': np.array([[7.22102225e-01, 2.77897775e-01]], dtype=np.float32),\n",
            "'Non_N_259_7.png': np.array([[4.00029480e-01, 5.99970520e-01]], dtype=np.float32),\n",
            "'Dis_N_640_9.png': np.array([[5.51824212e-01, 4.48175788e-01]], dtype=np.float32),\n",
            "'Dis_N_624_5.png': np.array([[6.63599312e-01, 3.36400658e-01]], dtype=np.float32),\n",
            "'Dis_N_624_16.png': np.array([[2.58056849e-01, 7.41943121e-01]], dtype=np.float32),\n",
            "'Dis_N_658_10.png': np.array([[9.92226958e-01, 7.77303707e-03]], dtype=np.float32),\n",
            "'Dis_Y_889_25.png': np.array([[9.98506606e-01, 1.49339112e-03]], dtype=np.float32),\n",
            "'Non_N_294_6.png': np.array([[4.84770790e-05, 9.99951482e-01]], dtype=np.float32),\n",
            "'Non_N_276_2.png': np.array([[2.49376044e-05, 9.99975085e-01]], dtype=np.float32),\n",
            "'Non_Y_360_22.png': np.array([[5.78400567e-02, 9.42159951e-01]], dtype=np.float32),\n",
            "'Non_Y_351_3.png': np.array([[1.57893021e-02, 9.84210730e-01]], dtype=np.float32),\n",
            "'Non_N_276_21.png': np.array([[9.83206788e-04, 9.99016762e-01]], dtype=np.float32),\n",
            "'Non_Y_360_11.png': np.array([[1.89623490e-01, 8.10376525e-01]], dtype=np.float32),\n",
            "'Non_Y_448_7.png': np.array([[1.21369897e-06, 9.99998808e-01]], dtype=np.float32),\n",
            "'Dis_Y_434_20.png': np.array([[9.59652007e-01, 4.03480195e-02]], dtype=np.float32),\n",
            "'Dis_Y_876_13.png': np.array([[3.81256968e-01, 6.18743002e-01]], dtype=np.float32),\n",
            "'Dis_N_276_12.png': np.array([[9.64239955e-01, 3.57599966e-02]], dtype=np.float32),\n",
            "'Dis_N_255_16.png': np.array([[9.86429691e-01, 1.35703236e-02]], dtype=np.float32),\n",
            "'Dis_N_658_15.png': np.array([[4.50981334e-02, 9.54901934e-01]], dtype=np.float32),\n",
            "'Non_N_276_18.png': np.array([[1.38033438e-03, 9.98619676e-01]], dtype=np.float32),\n",
            "'Dis_N_640_7.png': np.array([[9.98784602e-01, 1.21546374e-03]], dtype=np.float32),\n",
            "'Non_Y_448_16.png': np.array([[1.63146174e-09, 1.00000000e+00]], dtype=np.float32),\n",
            "'Non_Y_351_14.png': np.array([[5.83226019e-08, 1.00000000e+00]], dtype=np.float32),\n",
            "'Dis_N_294_12.png': np.array([[9.99996781e-01, 3.22822234e-06]], dtype=np.float32),\n",
            "'Non_N_294_3.png': np.array([[6.15345500e-02, 9.38465476e-01]], dtype=np.float32),\n",
            "'Non_Y_877_8.png': np.array([[6.00295849e-02, 9.39970434e-01]], dtype=np.float32),\n",
            "'Dis_N_255_4.png': np.array([[2.97365546e-06, 9.99997020e-01]], dtype=np.float32),\n",
            "'Dis_N_255_17.png': np.array([[5.98698676e-01, 4.01301324e-01]], dtype=np.float32),\n",
            "'Non_N_257_15.png': np.array([[4.93352825e-04, 9.99506593e-01]], dtype=np.float32),\n",
            "'Non_N_285_15.png': np.array([[3.30409158e-08, 1.00000000e+00]], dtype=np.float32),\n",
            "'Non_Y_351_5.png': np.array([[1.66323930e-02, 9.83367682e-01]], dtype=np.float32),\n",
            "'Dis_Y_877_12.png': np.array([[9.72900152e-01, 2.70998310e-02]], dtype=np.float32),\n",
            "'Non_N_276_10.png': np.array([[4.90255161e-07, 9.99999523e-01]], dtype=np.float32),\n",
            "'Non_Y_428_24.png': np.array([[4.61643972e-02, 9.53835547e-01]], dtype=np.float32),\n",
            "'Dis_N_285_16.png': np.array([[6.57450291e-04, 9.99342501e-01]], dtype=np.float32),\n",
            "'Non_Y_448_8.png': np.array([[3.43305669e-06, 9.99996543e-01]], dtype=np.float32),\n",
            "'Dis_Y_351_15.png': np.array([[9.11469638e-01, 8.85303244e-02]], dtype=np.float32),\n",
            "'Dis_Y_889_23.png': np.array([[9.99736369e-01, 2.63650261e-04]], dtype=np.float32),\n",
            "'Dis_Y_877_5.png': np.array([[9.97999370e-01, 2.00062175e-03]], dtype=np.float32),\n",
            "'Dis_N_257_20.png': np.array([[9.60878968e-01, 3.91210280e-02]], dtype=np.float32),\n",
            "'Dis_N_624_18.png': np.array([[1.00067627e-04, 9.99899864e-01]], dtype=np.float32),\n",
            "'Non_N_255_28.png': np.array([[1.10473521e-01, 8.89526427e-01]], dtype=np.float32),\n",
            "'Non_N_255_22.png': np.array([[1.33918279e-10, 1.00000000e+00]], dtype=np.float32),\n",
            "'Non_N_259_15.png': np.array([[1.48502111e-01, 8.51497889e-01]], dtype=np.float32),\n",
            "'Non_Y_440_20.png': np.array([[7.52023995e-01, 2.47975990e-01]], dtype=np.float32),\n",
            "'Non_N_265_8.png': np.array([[1.32932496e-06, 9.99998689e-01]], dtype=np.float32),\n",
            "'Non_N_276_1.png': np.array([[1.10633469e-09, 1.00000000e+00]], dtype=np.float32),\n",
            "'Non_Y_440_6.png': np.array([[5.29953420e-01, 4.70046610e-01]], dtype=np.float32),\n",
            "'Non_Y_440_3.png': np.array([[4.15560731e-04, 9.99584496e-01]], dtype=np.float32),\n",
            "'Dis_N_640_13.png': np.array([[9.99775589e-01, 2.24425137e-04]], dtype=np.float32),\n",
            "'Non_N_265_11.png': np.array([[2.26983189e-04, 9.99772966e-01]], dtype=np.float32),\n",
            "'Dis_N_627_12.png': np.array([[9.83464062e-01, 1.65359136e-02]], dtype=np.float32),\n",
            "'Dis_N_255_6.png': np.array([[9.01956081e-01, 9.80438963e-02]], dtype=np.float32),\n",
            "'Non_Y_448_15.png': np.array([[2.06386164e-01, 7.93613851e-01]], dtype=np.float32),\n",
            "'Dis_N_255_10.png': np.array([[9.90764141e-01, 9.23579559e-03]], dtype=np.float32),\n",
            "'Non_N_276_7.png': np.array([[6.48236798e-10, 1.00000000e+00]], dtype=np.float32),\n",
            "'Dis_N_265_28.png': np.array([[9.97262597e-01, 2.73734005e-03]], dtype=np.float32),\n",
            "'Non_Y_351_13.png': np.array([[4.52347212e-02, 9.54765320e-01]], dtype=np.float32),\n",
            "'Dis_Y_428_21.png': np.array([[2.79819220e-01, 7.20180750e-01]], dtype=np.float32),\n",
            "'Non_N_255_3.png': np.array([[2.99957581e-02, 9.70004201e-01]], dtype=np.float32),\n",
            "'Dis_Y_889_10.png': np.array([[5.18025398e-01, 4.81974632e-01]], dtype=np.float32),\n",
            "'Dis_N_658_3.png': np.array([[8.39792371e-01, 1.60207644e-01]], dtype=np.float32),\n",
            "'Non_Y_428_11.png': np.array([[8.47466239e-08, 9.99999881e-01]], dtype=np.float32),\n",
            "'Non_Y_360_17.png': np.array([[1.61784321e-01, 8.38215709e-01]], dtype=np.float32),\n",
            "'Non_Y_440_1.png': np.array([[1.86529032e-05, 9.99981403e-01]], dtype=np.float32),\n",
            "'Dis_N_627_5.png': np.array([[8.88048172e-01, 1.11951850e-01]], dtype=np.float32),\n",
            "'Non_Y_448_14.png': np.array([[3.10202725e-10, 1.00000000e+00]], dtype=np.float32),\n",
            "'Non_Y_351_16.png': np.array([[3.59778553e-02, 9.64022100e-01]], dtype=np.float32),\n",
            "'Non_Y_351_17.png': np.array([[1.56613691e-08, 1.00000000e+00]], dtype=np.float32),\n",
            "'Dis_Y_938_9.png': np.array([[9.70263362e-01, 2.97365692e-02]], dtype=np.float32),\n",
            "'Dis_Y_938_6.png': np.array([[5.09853542e-01, 4.90146428e-01]], dtype=np.float32),\n",
            "'Non_Y_434_5.png': np.array([[6.34190997e-07, 9.99999404e-01]], dtype=np.float32),\n",
            "'Non_Y_938_7.png': np.array([[6.16459548e-01, 3.83540422e-01]], dtype=np.float32),\n",
            "'Non_Y_434_8.png': np.array([[2.54929046e-06, 9.99997497e-01]], dtype=np.float32),\n",
            "'Dis_Y_877_1.png': np.array([[4.25532073e-01, 5.74467897e-01]], dtype=np.float32),\n"
          ]
        }
      ]
    },
    {
      "cell_type": "code",
      "source": [
        "import csv\n",
        "import numpy as np\n",
        "import torch\n",
        "import torch.nn as nn\n",
        "from torchvision.transforms import transforms\n",
        "from torch.autograd import Variable\n",
        "from torchvision.models import squeezenet1_1\n",
        "from io import open\n",
        "import os\n",
        "from PIL import Image\n",
        "import pathlib\n",
        "import glob\n",
        "import cv2\n",
        "\n",
        "# Define the path for saving the CSV file\n",
        "output_csv_path = '/content/predictions.csv'\n",
        "\n",
        "# Save prediction results to CSV\n",
        "with open(output_csv_path, 'w', newline='') as csvfile:\n",
        "    csvwriter = csv.writer(csvfile)\n",
        "    csvwriter.writerow(['Label', 'Predicted Class', 'Probability'])\n",
        "\n",
        "    for filename, prob_array in pred_dict.items():\n",
        "        predicted_class = 'Non-Distinct' if prob_array[0][1] > 0.5 else 'Distinct'  # Adjust the threshold as needed\n",
        "        probability = prob_array[0][1]\n",
        "        csvwriter.writerow([filename, predicted_class, probability])\n",
        "\n",
        "print(\"Prediction results saved to\", output_csv_path)"
      ],
      "metadata": {
        "colab": {
          "base_uri": "https://localhost:8080/"
        },
        "id": "OmnUmp8AVtHg",
        "outputId": "307194cf-5092-44ec-8cb2-c4ef7a34c950"
      },
      "execution_count": 33,
      "outputs": [
        {
          "output_type": "stream",
          "name": "stdout",
          "text": [
            "Prediction results saved to /content/predictions.csv\n"
          ]
        }
      ]
    },
    {
      "cell_type": "code",
      "source": [
        "import pandas as pd\n",
        "import numpy as np\n",
        "from sklearn.metrics import roc_curve, auc\n",
        "import matplotlib.pyplot as plt\n",
        "\n",
        "# Load data from predictions.csv\n",
        "df = pd.read_csv('predictions.csv')\n",
        "\n",
        "# Extract true labels and predicted probabilities\n",
        "true_labels = df['Label']\n",
        "predicted_probs = df['Probability']\n",
        "\n",
        "# Convert labels to binary format (0 for 'Dis_' and 1 for 'Non_')\n",
        "true_labels = true_labels.apply(lambda x: 0 if x.startswith('Dis_') else 1)\n",
        "\n",
        "# Calculate ROC curve and AUC\n",
        "fpr, tpr, thresholds = roc_curve(true_labels, predicted_probs)\n",
        "roc_auc = auc(fpr, tpr)\n",
        "\n",
        "# Plot ROC curve\n",
        "plt.figure()\n",
        "plt.plot(fpr, tpr, color='darkorange', lw=2, label='ROC curve (AUC = %0.2f)' % roc_auc)\n",
        "plt.plot([0, 1], [0, 1], color='navy', lw=2, linestyle='--')\n",
        "plt.xlim([0.0, 1.0])\n",
        "plt.ylim([0.0, 1.05])\n",
        "plt.xlabel('False Positive Rate')\n",
        "plt.ylabel('True Positive Rate')\n",
        "plt.title('Receiver Operating Characteristic')\n",
        "plt.legend(loc=\"lower right\")\n",
        "plt.savefig('roc.pdf', bbox_inches='tight')\n",
        "plt.show()"
      ],
      "metadata": {
        "colab": {
          "base_uri": "https://localhost:8080/",
          "height": 472
        },
        "id": "oXb3tT7GVtGg",
        "outputId": "fb4cc72a-6095-4825-8573-ff68f7ed08eb"
      },
      "execution_count": 34,
      "outputs": [
        {
          "output_type": "display_data",
          "data": {
            "text/plain": [
              "<Figure size 640x480 with 1 Axes>"
            ],
            "image/png": "[encoded data removed]"
          },
          "metadata": {}
        }
      ]
    },
    {
      "cell_type": "code",
      "source": [
        "import pandas as pd\n",
        "import numpy as np\n",
        "from sklearn.metrics import confusion_matrix\n",
        "import matplotlib.pyplot as plt\n",
        "import seaborn as sns\n",
        "\n",
        "# Read the CSV file containing predictions\n",
        "df = pd.read_csv('predictions.csv')\n",
        "\n",
        "# Extract true labels and predicted probabilities\n",
        "true_labels = df['Label']\n",
        "\n",
        "# Preprocess true labels to match the binary conversion used in ROC\n",
        "# 0 for 'Dis_' (Distinctive) and 1 for 'Non_' (Non Distinctive)\n",
        "true_labels_processed = [0 if label.startswith('Dis_') else 1 for label in true_labels]\n",
        "\n",
        "# Threshold to convert probabilities to binary predictions\n",
        "threshold = 0.5\n",
        "binary_predictions = np.where(df['Probability'] >= threshold, 1, 0)  # 1 for Non Distinctive, 0 for Distinctive\n",
        "\n",
        "# Calculate confusion matrix\n",
        "class_labels = ['Distinctive', 'Non Distinctive']\n",
        "cm = confusion_matrix(true_labels_processed, binary_predictions, labels=[0, 1])\n",
        "\n",
        "# Extract TP, TN, FP, FN from confusion matrix\n",
        "tp = cm[1, 1]  # Non Distinctive correctly predicted as Non Distinctive\n",
        "tn = cm[0, 0]  # Distinctive correctly predicted as Distinctive\n",
        "fp = cm[0, 1]  # Distinctive incorrectly predicted as Non Distinctive\n",
        "fn = cm[1, 0]  # Non Distinctive incorrectly predicted as Distinctive\n",
        "\n",
        "# Calculate accuracy, sensitivity (True Positive Rate), and specificity (True Negative Rate)\n",
        "accuracy = (tp + tn) / (tp + tn + fp + fn)\n",
        "sensitivity = tp / (tp + fn)\n",
        "specificity = tn / (tn + fp)\n",
        "\n",
        "# Display TP, TN, FP, FN\n",
        "print(\"True Positive:\", tp)\n",
        "print(\"True Negative:\", tn)\n",
        "print(\"False Positive:\", fp)\n",
        "print(\"False Negative:\", fn)\n",
        "\n",
        "# Display accuracy, sensitivity, and specificity\n",
        "print(\"Accuracy:\", accuracy)\n",
        "print(\"Sensitivity (True Positive Rate):\", sensitivity)\n",
        "print(\"Specificity (True Negative Rate):\", specificity)\n",
        "\n",
        "# Create a heatmap of the confusion matrix\n",
        "plt.figure(figsize=(4, 3))\n",
        "sns.heatmap(cm, annot=True, fmt='g', cmap='PuRd', xticklabels=class_labels, yticklabels=class_labels)\n",
        "plt.xlabel('Predicted Labels')\n",
        "plt.ylabel('True Labels')\n",
        "plt.title('Confusion Matrix')\n",
        "plt.savefig('confusion_matrix.pdf', bbox_inches='tight')\n",
        "plt.show()\n"
      ],
      "metadata": {
        "colab": {
          "base_uri": "https://localhost:8080/",
          "height": 454
        },
        "id": "5_VIjFIpVtC3",
        "outputId": "8becd8b9-5ca3-416c-d079-d54a9a5cd8cd"
      },
      "execution_count": 35,
      "outputs": [
        {
          "output_type": "stream",
          "name": "stdout",
          "text": [
            "True Positive: 216\n",
            "True Negative: 183\n",
            "False Positive: 47\n",
            "False Negative: 21\n",
            "Accuracy: 0.854389721627409\n",
            "Sensitivity (True Positive Rate): 0.9113924050632911\n",
            "Specificity (True Negative Rate): 0.7956521739130434\n"
          ]
        },
        {
          "output_type": "display_data",
          "data": {
            "text/plain": [
              "<Figure size 400x300 with 2 Axes>"
            ],
            "image/png": "[encoded data removed]"
          },
          "metadata": {}
        }
      ]
    }
  ]
}